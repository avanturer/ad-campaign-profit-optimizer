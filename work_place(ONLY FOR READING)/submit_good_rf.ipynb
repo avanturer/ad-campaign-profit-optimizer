{
 "cells": [
  {
   "cell_type": "code",
   "id": "initial_id",
   "metadata": {
    "collapsed": true,
    "ExecuteTime": {
     "end_time": "2025-04-26T12:01:23.825597Z",
     "start_time": "2025-04-26T12:01:18.752446Z"
    }
   },
   "source": [
    "import pandas as pd\n",
    "import numpy as np\n",
    "from datetime import datetime, timedelta\n",
    "from tqdm.auto import tqdm\n",
    "from sklearn.model_selection import train_test_split, TimeSeriesSplit\n",
    "from xgboost import XGBClassifier\n",
    "from sklearn.metrics import roc_auc_score, classification_report\n",
    "from sklearn.calibration import CalibratedClassifierCV\n",
    "import matplotlib.pyplot as plt\n",
    "from collections import defaultdict"
   ],
   "outputs": [
    {
     "name": "stderr",
     "output_type": "stream",
     "text": [
      "S:\\anaconda3\\envs\\hh_casualml_test\\lib\\site-packages\\scipy\\__init__.py:146: UserWarning: A NumPy version >=1.16.5 and <1.23.0 is required for this version of SciPy (detected version 1.24.4\n",
      "  warnings.warn(f\"A NumPy version >={np_minversion} and <{np_maxversion}\"\n"
     ]
    }
   ],
   "execution_count": 1
  },
  {
   "metadata": {
    "ExecuteTime": {
     "end_time": "2025-04-26T12:01:46.595683Z",
     "start_time": "2025-04-26T12:01:23.829601Z"
    }
   },
   "cell_type": "code",
   "source": [
    "# ================ 1. ЗАГРУЗКА ДАННЫХ ================\n",
    "print(\"Загрузка данных...\")\n",
    "triggers = pd.read_csv('triggers.csv', parse_dates=['date'])\n",
    "actions = pd.read_csv('actions.csv', parse_dates=['date'])\n",
    "\n",
    "# Определяем max_date для окон\n",
    "max_date = max(triggers['date'].max(), actions['date'].max())"
   ],
   "id": "c066266b37b45098",
   "outputs": [
    {
     "name": "stdout",
     "output_type": "stream",
     "text": [
      "Загрузка данных...\n"
     ]
    }
   ],
   "execution_count": 2
  },
  {
   "metadata": {
    "ExecuteTime": {
     "end_time": "2025-04-26T12:03:03.043761Z",
     "start_time": "2025-04-26T12:01:47.100592Z"
    }
   },
   "cell_type": "code",
   "source": [
    "# ================ 2. ПОДГОТОВКА ПРИЗНАКОВ ================\n",
    "print(\"Подготовка признаков...\")\n",
    "\n",
    "def aggregate_features(df, by, date_col, windows, col, max_date):\n",
    "    \"\"\"Агрегация признаков по временным окнам\"\"\"\n",
    "    chunks = []\n",
    "    for w in tqdm(windows, desc=f'agg {col} windows'):\n",
    "        start = max_date - pd.Timedelta(days=w)\n",
    "        df_w = df[df[date_col] >= start]\n",
    "        agg = (\n",
    "            df_w\n",
    "            .groupby(by)[col]\n",
    "            .agg(count='count', unique='nunique')\n",
    "            .rename(columns={\n",
    "                'count': f'count_{w}d',\n",
    "                'unique': f'unique_{w}d'\n",
    "            })\n",
    "        )\n",
    "        chunks.append(agg)\n",
    "    return pd.concat(chunks, axis=1).fillna(0)\n",
    "\n",
    "# Строим фичи из triggers\n",
    "windows = [7, 14, 30]\n",
    "f_tr = aggregate_features(triggers, 'guid', 'date', windows, 'trigger', max_date)\n",
    "f_ty = aggregate_features(triggers, 'guid', 'date', windows, 'type', max_date)\n",
    "\n",
    "# Добавляем префиксы\n",
    "f_tr = f_tr.add_prefix('tr_')\n",
    "f_ty = f_ty.add_prefix('ty_')\n",
    "\n",
    "# Агрегация признаков из actions\n",
    "act_agg = (\n",
    "    actions\n",
    "    .groupby('guid')\n",
    "    .agg(\n",
    "        shows_count=('date', 'count'),\n",
    "        positive_shows=('result', 'sum'),\n",
    "        last_show=('date', 'max')\n",
    "    )\n",
    ")\n",
    "act_agg['days_since_last_show'] = (\n",
    "        max_date - act_agg['last_show']\n",
    ").dt.days.fillna(999)\n",
    "\n",
    "# Объединяем все признаки\n",
    "features = (\n",
    "    f_tr\n",
    "    .join(f_ty, how='outer')\n",
    "    .join(act_agg, how='outer')\n",
    "    .fillna({\n",
    "        'shows_count': 0,\n",
    "        'positive_shows': 0,\n",
    "        'days_since_last_show': 999\n",
    "    })\n",
    ")\n",
    "features['user_ctr'] = (\n",
    "        features['positive_shows'] / features['shows_count'].replace(0, 1)\n",
    ")\n",
    "\n",
    "# Добавляем recency из triggers\n",
    "last_visit = triggers.groupby('guid')['date'].max()\n",
    "features['days_since_last_visit'] = (\n",
    "        max_date - last_visit\n",
    ").dt.days.fillna(999)\n",
    "\n",
    "# Сохраняем признаки\n",
    "features.reset_index().to_csv('features_xgb.csv', index=False)\n",
    "print(f\"Признаки сохранены, размер: {features.shape}\")"
   ],
   "id": "ede056f94b5134f8",
   "outputs": [
    {
     "name": "stdout",
     "output_type": "stream",
     "text": [
      "Подготовка признаков...\n"
     ]
    },
    {
     "data": {
      "text/plain": [
       "agg trigger windows:   0%|          | 0/3 [00:00<?, ?it/s]"
      ],
      "application/vnd.jupyter.widget-view+json": {
       "version_major": 2,
       "version_minor": 0,
       "model_id": "211320fa948c487f8d8c190a4e2e8d51"
      }
     },
     "metadata": {},
     "output_type": "display_data"
    },
    {
     "data": {
      "text/plain": [
       "agg type windows:   0%|          | 0/3 [00:00<?, ?it/s]"
      ],
      "application/vnd.jupyter.widget-view+json": {
       "version_major": 2,
       "version_minor": 0,
       "model_id": "33acf6ad7d8b49c7b714fd65ea1ddc2d"
      }
     },
     "metadata": {},
     "output_type": "display_data"
    },
    {
     "name": "stdout",
     "output_type": "stream",
     "text": [
      "Признаки сохранены, размер: (1009806, 18)\n"
     ]
    }
   ],
   "execution_count": 3
  },
  {
   "metadata": {
    "ExecuteTime": {
     "end_time": "2025-04-26T12:03:06.006184Z",
     "start_time": "2025-04-26T12:03:03.135930Z"
    }
   },
   "cell_type": "code",
   "source": [
    "# ================ 3. ПОДГОТОВКА ДАННЫХ ДЛЯ ОБУЧЕНИЯ ================\n",
    "print(\"Подготовка данных для обучения...\")\n",
    "\n",
    "# Разделим данные на две группы по времени (не случайно!)\n",
    "# Берем первые 80% дней для обучения, последние 20% для тестирования\n",
    "print(\"Разделение данных по времени...\")\n",
    "all_dates = sorted(actions['date'].unique())\n",
    "split_idx = int(len(all_dates) * 0.8)\n",
    "train_dates = all_dates[:split_idx]\n",
    "test_dates = all_dates[split_idx:]\n",
    "\n",
    "# Формируем выборки с учетом временного разделения\n",
    "train_actions = actions[actions['date'].isin(train_dates)]\n",
    "test_actions = actions[actions['date'].isin(test_dates)]\n",
    "\n",
    "# Соединяем признаки с метками\n",
    "feat = pd.read_csv('features_xgb.csv')\n",
    "\n",
    "# Определяем признаки, которые будем использовать \n",
    "# (исключаем признаки, которые могут быть недоступны в реальном времени)\n",
    "available_features = [\n",
    "    'tr_count_7d', 'tr_unique_7d', 'tr_count_14d', 'tr_unique_14d',\n",
    "    'tr_count_30d', 'tr_unique_30d', 'ty_count_7d', 'ty_unique_7d',\n",
    "    'ty_count_14d', 'ty_unique_14d', 'ty_count_30d', 'ty_unique_30d',\n",
    "    'days_since_last_visit'\n",
    "]\n",
    "\n",
    "# Создаем тренировочную и тестовую выборки\n",
    "train_df = feat.merge(train_actions[['guid', 'date', 'result']], on='guid')\n",
    "test_df = feat.merge(test_actions[['guid', 'date', 'result']], on='guid')\n",
    "\n",
    "# Проверяем, что в тестовых данных нет информации из обучающей выборки\n",
    "test_df = test_df.drop(columns=[\n",
    "    'shows_count', 'positive_shows', 'user_ctr', 'days_since_last_show'\n",
    "])"
   ],
   "id": "51c8eb3b2e22fe47",
   "outputs": [
    {
     "name": "stdout",
     "output_type": "stream",
     "text": [
      "Подготовка данных для обучения...\n",
      "Разделение данных по времени...\n"
     ]
    }
   ],
   "execution_count": 4
  },
  {
   "metadata": {
    "ExecuteTime": {
     "end_time": "2025-04-26T12:03:06.164461Z",
     "start_time": "2025-04-26T12:03:06.102860Z"
    }
   },
   "cell_type": "code",
   "source": "train_df = train_df.fillna(-1)",
   "id": "a6c74035d67c121f",
   "outputs": [],
   "execution_count": 5
  },
  {
   "metadata": {
    "ExecuteTime": {
     "end_time": "2025-04-26T12:03:06.291177Z",
     "start_time": "2025-04-26T12:03:06.260632Z"
    }
   },
   "cell_type": "code",
   "source": [
    "# Готовим X и y\n",
    "X_train = train_df[available_features]\n",
    "y_train = train_df['result']\n",
    "X_test = test_df[available_features]\n",
    "y_test = test_df['result']"
   ],
   "id": "d80cb58ed96af348",
   "outputs": [],
   "execution_count": 6
  },
  {
   "metadata": {
    "ExecuteTime": {
     "end_time": "2025-04-26T12:03:06.401339Z",
     "start_time": "2025-04-26T12:03:06.386819Z"
    }
   },
   "cell_type": "code",
   "source": "y_train.value_counts(normalize=True)",
   "id": "a2cfac72d9ffbc24",
   "outputs": [
    {
     "data": {
      "text/plain": [
       "result\n",
       "0    0.970426\n",
       "1    0.029574\n",
       "Name: proportion, dtype: float64"
      ]
     },
     "execution_count": 7,
     "metadata": {},
     "output_type": "execute_result"
    }
   ],
   "execution_count": 7
  },
  {
   "metadata": {
    "ExecuteTime": {
     "end_time": "2025-04-26T12:03:06.686778Z",
     "start_time": "2025-04-26T12:03:06.608152Z"
    }
   },
   "cell_type": "code",
   "source": [
    "# ================ 4. ОБУЧЕНИЕ МОДЕЛИ ================\n",
    "print(\"Обучение модели...\")\n",
    "\n",
    "# Параметры для балансировки классов\n",
    "ratio = (y_train == 0).sum() / (y_train == 1).sum()\n",
    "\n",
    "# Создаем разбиение для валидации\n",
    "X_train_split, X_val, y_train_split, y_val = train_test_split(\n",
    "    X_train, y_train, test_size=0.2, random_state=42, stratify=y_train\n",
    ")"
   ],
   "id": "2cfa6df346cb62d6",
   "outputs": [
    {
     "name": "stdout",
     "output_type": "stream",
     "text": [
      "Обучение модели...\n"
     ]
    }
   ],
   "execution_count": 8
  },
  {
   "metadata": {
    "ExecuteTime": {
     "end_time": "2025-04-26T12:03:06.764421Z",
     "start_time": "2025-04-26T12:03:06.719333Z"
    }
   },
   "cell_type": "code",
   "source": [
    "# # Обучение модели с валидацией для предотвращения переобучения\n",
    "# model = XGBClassifier(\n",
    "#     eval_metric='auc',\n",
    "#     scale_pos_weight=ratio,\n",
    "#     n_estimators=5000,\n",
    "#     max_depth=7,\n",
    "#     learning_rate=0.005,\n",
    "#     early_stopping_rounds=100,  # Останавливаемся, если валидационная метрика не улучшается\n",
    "#     device=\"gpu\"\n",
    "# )\n",
    "# model.fit(\n",
    "#     X_smote, y_smote,\n",
    "#     eval_set=[(X_val, y_val)],\n",
    "#     verbose=100\n",
    "# )\n",
    "# \n",
    "# # Калибровка вероятностей для получения более реалистичных прогнозов\n",
    "# calibrated_model = CalibratedClassifierCV(\n",
    "#     model,\n",
    "#     method='isotonic',\n",
    "#     cv='prefit'\n",
    "# )\n",
    "# calibrated_model.fit(X_val, y_val)"
   ],
   "id": "d132f0cb8dcc87fe",
   "outputs": [],
   "execution_count": 9
  },
  {
   "metadata": {
    "ExecuteTime": {
     "end_time": "2025-04-26T12:03:06.875636Z",
     "start_time": "2025-04-26T12:03:06.828537Z"
    }
   },
   "cell_type": "code",
   "source": [
    "# # SMOTE\n",
    "# from imblearn.over_sampling import SMOTE\n",
    "# smote = SMOTE(random_state=42)\n",
    "# X_smote, y_smote = smote.fit_resample(X_train_split, y_train_split)"
   ],
   "id": "8a7807226b79c95c",
   "outputs": [],
   "execution_count": 10
  },
  {
   "metadata": {
    "ExecuteTime": {
     "end_time": "2025-04-26T12:03:52.023944Z",
     "start_time": "2025-04-26T12:03:49.874171Z"
    }
   },
   "cell_type": "code",
   "source": [
    "from sklearn.ensemble import RandomForestClassifier\n",
    "\n",
    "rf_c = RandomForestClassifier(n_estimators=100, random_state=42, max_depth = 10, n_jobs=20, class_weight={0: 5, 1:1}, warm_start = False)\n",
    "rf_c.fit(X_train, y_train)"
   ],
   "id": "bc055020ca6a3e0",
   "outputs": [
    {
     "data": {
      "text/plain": [
       "RandomForestClassifier(class_weight={0: 5, 1: 1}, max_depth=10, n_jobs=20,\n",
       "                       random_state=42)"
      ],
      "text/html": [
       "<style>#sk-container-id-2 {color: black;}#sk-container-id-2 pre{padding: 0;}#sk-container-id-2 div.sk-toggleable {background-color: white;}#sk-container-id-2 label.sk-toggleable__label {cursor: pointer;display: block;width: 100%;margin-bottom: 0;padding: 0.3em;box-sizing: border-box;text-align: center;}#sk-container-id-2 label.sk-toggleable__label-arrow:before {content: \"▸\";float: left;margin-right: 0.25em;color: #696969;}#sk-container-id-2 label.sk-toggleable__label-arrow:hover:before {color: black;}#sk-container-id-2 div.sk-estimator:hover label.sk-toggleable__label-arrow:before {color: black;}#sk-container-id-2 div.sk-toggleable__content {max-height: 0;max-width: 0;overflow: hidden;text-align: left;background-color: #f0f8ff;}#sk-container-id-2 div.sk-toggleable__content pre {margin: 0.2em;color: black;border-radius: 0.25em;background-color: #f0f8ff;}#sk-container-id-2 input.sk-toggleable__control:checked~div.sk-toggleable__content {max-height: 200px;max-width: 100%;overflow: auto;}#sk-container-id-2 input.sk-toggleable__control:checked~label.sk-toggleable__label-arrow:before {content: \"▾\";}#sk-container-id-2 div.sk-estimator input.sk-toggleable__control:checked~label.sk-toggleable__label {background-color: #d4ebff;}#sk-container-id-2 div.sk-label input.sk-toggleable__control:checked~label.sk-toggleable__label {background-color: #d4ebff;}#sk-container-id-2 input.sk-hidden--visually {border: 0;clip: rect(1px 1px 1px 1px);clip: rect(1px, 1px, 1px, 1px);height: 1px;margin: -1px;overflow: hidden;padding: 0;position: absolute;width: 1px;}#sk-container-id-2 div.sk-estimator {font-family: monospace;background-color: #f0f8ff;border: 1px dotted black;border-radius: 0.25em;box-sizing: border-box;margin-bottom: 0.5em;}#sk-container-id-2 div.sk-estimator:hover {background-color: #d4ebff;}#sk-container-id-2 div.sk-parallel-item::after {content: \"\";width: 100%;border-bottom: 1px solid gray;flex-grow: 1;}#sk-container-id-2 div.sk-label:hover label.sk-toggleable__label {background-color: #d4ebff;}#sk-container-id-2 div.sk-serial::before {content: \"\";position: absolute;border-left: 1px solid gray;box-sizing: border-box;top: 0;bottom: 0;left: 50%;z-index: 0;}#sk-container-id-2 div.sk-serial {display: flex;flex-direction: column;align-items: center;background-color: white;padding-right: 0.2em;padding-left: 0.2em;position: relative;}#sk-container-id-2 div.sk-item {position: relative;z-index: 1;}#sk-container-id-2 div.sk-parallel {display: flex;align-items: stretch;justify-content: center;background-color: white;position: relative;}#sk-container-id-2 div.sk-item::before, #sk-container-id-2 div.sk-parallel-item::before {content: \"\";position: absolute;border-left: 1px solid gray;box-sizing: border-box;top: 0;bottom: 0;left: 50%;z-index: -1;}#sk-container-id-2 div.sk-parallel-item {display: flex;flex-direction: column;z-index: 1;position: relative;background-color: white;}#sk-container-id-2 div.sk-parallel-item:first-child::after {align-self: flex-end;width: 50%;}#sk-container-id-2 div.sk-parallel-item:last-child::after {align-self: flex-start;width: 50%;}#sk-container-id-2 div.sk-parallel-item:only-child::after {width: 0;}#sk-container-id-2 div.sk-dashed-wrapped {border: 1px dashed gray;margin: 0 0.4em 0.5em 0.4em;box-sizing: border-box;padding-bottom: 0.4em;background-color: white;}#sk-container-id-2 div.sk-label label {font-family: monospace;font-weight: bold;display: inline-block;line-height: 1.2em;}#sk-container-id-2 div.sk-label-container {text-align: center;}#sk-container-id-2 div.sk-container {/* jupyter's `normalize.less` sets `[hidden] { display: none; }` but bootstrap.min.css set `[hidden] { display: none !important; }` so we also need the `!important` here to be able to override the default hidden behavior on the sphinx rendered scikit-learn.org. See: https://github.com/scikit-learn/scikit-learn/issues/21755 */display: inline-block !important;position: relative;}#sk-container-id-2 div.sk-text-repr-fallback {display: none;}</style><div id=\"sk-container-id-2\" class=\"sk-top-container\"><div class=\"sk-text-repr-fallback\"><pre>RandomForestClassifier(class_weight={0: 5, 1: 1}, max_depth=10, n_jobs=20,\n",
       "                       random_state=42)</pre><b>In a Jupyter environment, please rerun this cell to show the HTML representation or trust the notebook. <br />On GitHub, the HTML representation is unable to render, please try loading this page with nbviewer.org.</b></div><div class=\"sk-container\" hidden><div class=\"sk-item\"><div class=\"sk-estimator sk-toggleable\"><input class=\"sk-toggleable__control sk-hidden--visually\" id=\"sk-estimator-id-2\" type=\"checkbox\" checked><label for=\"sk-estimator-id-2\" class=\"sk-toggleable__label sk-toggleable__label-arrow\">RandomForestClassifier</label><div class=\"sk-toggleable__content\"><pre>RandomForestClassifier(class_weight={0: 5, 1: 1}, max_depth=10, n_jobs=20,\n",
       "                       random_state=42)</pre></div></div></div></div></div>"
      ]
     },
     "execution_count": 17,
     "metadata": {},
     "output_type": "execute_result"
    }
   ],
   "execution_count": 17
  },
  {
   "metadata": {
    "ExecuteTime": {
     "end_time": "2025-04-26T12:03:59.829055Z",
     "start_time": "2025-04-26T12:03:52.030950Z"
    }
   },
   "cell_type": "code",
   "source": [
    "from sklearn.metrics import precision_recall_curve, auc, f1_score\n",
    "from sklearn.model_selection import cross_val_predict\n",
    "\n",
    "# Получение предсказаний через кросс-валидацию\n",
    "y_pred_proba = cross_val_predict(rf_c, X_train, y_train, cv=5, method='predict_proba')[:, 1]\n",
    "\n",
    "# PR-кривая\n",
    "precision, recall, thresholds = precision_recall_curve(y_train, y_pred_proba)\n",
    "pr_auc = auc(recall, precision)\n",
    "print(f\"PR-AUC: {pr_auc:.4f}\")"
   ],
   "id": "d0cf4902171c2735",
   "outputs": [
    {
     "name": "stdout",
     "output_type": "stream",
     "text": [
      "PR-AUC: 0.0645\n"
     ]
    }
   ],
   "execution_count": 18
  },
  {
   "metadata": {
    "ExecuteTime": {
     "end_time": "2025-04-26T12:04:00.191224Z",
     "start_time": "2025-04-26T12:04:00.082009Z"
    }
   },
   "cell_type": "code",
   "source": [
    "# ================ 5. ОЦЕНКА МОДЕЛИ ================\n",
    "print(\"Оценка модели...\")\n",
    "\n",
    "# Предсказания на тестовой выборке\n",
    "y_proba = rf_c.predict_proba(X_test)[:, 1]\n",
    "roc = roc_auc_score(y_test, y_proba)\n",
    "print(f\"ROC-AUC на тестовой выборке: {roc:.4f}\")"
   ],
   "id": "cd1fd19156df7fbf",
   "outputs": [
    {
     "name": "stdout",
     "output_type": "stream",
     "text": [
      "Оценка модели...\n",
      "ROC-AUC на тестовой выборке: 0.6701\n"
     ]
    }
   ],
   "execution_count": 19
  },
  {
   "metadata": {
    "ExecuteTime": {
     "end_time": "2025-04-26T12:04:05.732214Z",
     "start_time": "2025-04-26T12:04:00.201244Z"
    }
   },
   "cell_type": "code",
   "source": [
    "# ================ 6. СИМУЛЯЦИЯ КАМПАНИИ С РЕАЛЬНЫМИ ДАННЫМИ ================\n",
    "print(\"Симуляция кампании с реальными данными...\")\n",
    "\n",
    "def simulate_campaign_with_real_data(thresholds, freq_days=14):\n",
    "    \"\"\"\n",
    "    Оптимизированная симуляция кампании с использованием реальных данных конверсии\n",
    "    \"\"\"\n",
    "    results = []\n",
    "\n",
    "        # 1. Предварительный расчет вероятностей для всех пользователей (оптимизировано)\n",
    "    print(\"Расчет вероятностей для всех пользователей...\")\n",
    "    \n",
    "    # Берем только уникальные комбинации guid + признаки (без группировки)\n",
    "    unique_users = test_df.drop_duplicates('guid')\n",
    "    print(f\"Количество уникальных пользователей: {len(unique_users)}\")\n",
    "    \n",
    "    # Подготавливаем данные для пакетного предсказания\n",
    "    X_pred = unique_users[available_features].values\n",
    "    \n",
    "    # Пакетное предсказание (гораздо быстрее, чем поштучное)\n",
    "    with tqdm(total=1, desc=\"Batch prediction\") as pbar:\n",
    "        probas = rf_c.predict_proba(X_pred)[:, 1]\n",
    "        pbar.update(1)\n",
    "    \n",
    "    # Создаем словарь guid -> вероятность\n",
    "    guid_to_prob = dict(zip(unique_users['guid'], probas))\n",
    "\n",
    "    # 2. Подготовка данных о событиях\n",
    "    print(\"Подготовка данных о посещениях и конверсиях...\")\n",
    "    # Создаем и заполняем структуру: guid -> список (date, result)\n",
    "    guid_results = defaultdict(list)\n",
    "    for _, row in test_actions.iterrows():\n",
    "        guid = row['guid']\n",
    "        # Добавляем только тех пользователей, для которых есть прогноз\n",
    "        if guid in guid_to_prob:\n",
    "            guid_results[guid].append((row['date'], row['result']))\n",
    "\n",
    "    # 3. Предварительная подготовка всех событий с вероятностями\n",
    "    print(\"Формирование полного списка событий...\")\n",
    "    all_events = []\n",
    "    for guid, events in guid_results.items():\n",
    "        prob = guid_to_prob[guid]\n",
    "        for date, result in events:\n",
    "            all_events.append((date, guid, result, prob))\n",
    "\n",
    "    # 4. Сортируем все события по дате (один раз)\n",
    "    all_events.sort()\n",
    "\n",
    "    # 5. Запускаем симуляцию для каждого порога\n",
    "    for threshold in tqdm(thresholds, desc=\"Симуляция для порогов\"):\n",
    "        # Предварительно фильтруем события по порогу\n",
    "        filtered_events = [\n",
    "            (date, guid, result) for date, guid, result, prob in all_events\n",
    "            if prob >= threshold\n",
    "        ]\n",
    "\n",
    "        # Симуляция показов\n",
    "        total_shows = 0\n",
    "        total_conversions = 0\n",
    "        last_shown = {}  # guid -> дата последнего показа\n",
    "\n",
    "        # Проходим по предварительно отфильтрованным событиям\n",
    "        for date, guid, result in filtered_events:\n",
    "            # Проверяем ограничение частоты\n",
    "            if guid in last_shown:\n",
    "                days_since_last = (date - last_shown[guid]).days\n",
    "                if days_since_last < freq_days:\n",
    "                    continue\n",
    "\n",
    "            # Показываем баннер\n",
    "            total_shows += 1\n",
    "            last_shown[guid] = date\n",
    "\n",
    "            # Учитываем реальный результат\n",
    "            if result == 1:\n",
    "                total_conversions += 1\n",
    "\n",
    "        # Рассчитываем метрики\n",
    "        spend = total_shows  # $1 за показ\n",
    "        revenue = total_conversions * 5  # $5 за конверсию\n",
    "        balance = revenue - spend\n",
    "        turnover = revenue + spend\n",
    "\n",
    "        results.append({\n",
    "            'threshold': threshold,\n",
    "            'shows': total_shows,\n",
    "            'conversions': total_conversions,\n",
    "            'spend': spend,\n",
    "            'revenue': revenue,\n",
    "            'balance': balance,\n",
    "            'turnover': turnover,\n",
    "            'conv_rate': total_conversions / total_shows if total_shows > 0 else 0\n",
    "        })\n",
    "\n",
    "    return pd.DataFrame(results)\n",
    "\n",
    "# Генерируем список порогов для проверки\n",
    "thresholds = np.linspace(0.001, 0.95, 19)  # от 0.05 до 0.95 с шагом 0.05\n",
    "simulation_results = simulate_campaign_with_real_data(thresholds)"
   ],
   "id": "64a2b70c99cbc666",
   "outputs": [
    {
     "name": "stdout",
     "output_type": "stream",
     "text": [
      "Симуляция кампании с реальными данными...\n",
      "Расчет вероятностей для всех пользователей...\n",
      "Количество уникальных пользователей: 107461\n"
     ]
    },
    {
     "data": {
      "text/plain": [
       "Batch prediction:   0%|          | 0/1 [00:00<?, ?it/s]"
      ],
      "application/vnd.jupyter.widget-view+json": {
       "version_major": 2,
       "version_minor": 0,
       "model_id": "f20f73cf652e40b68413071fdd12b27a"
      }
     },
     "metadata": {},
     "output_type": "display_data"
    },
    {
     "name": "stdout",
     "output_type": "stream",
     "text": [
      "Подготовка данных о посещениях и конверсиях...\n"
     ]
    },
    {
     "name": "stderr",
     "output_type": "stream",
     "text": [
      "S:\\anaconda3\\envs\\hh_casualml_test\\lib\\site-packages\\sklearn\\base.py:465: UserWarning: X does not have valid feature names, but RandomForestClassifier was fitted with feature names\n",
      "  warnings.warn(\n"
     ]
    },
    {
     "name": "stdout",
     "output_type": "stream",
     "text": [
      "Формирование полного списка событий...\n"
     ]
    },
    {
     "data": {
      "text/plain": [
       "Симуляция для порогов:   0%|          | 0/19 [00:00<?, ?it/s]"
      ],
      "application/vnd.jupyter.widget-view+json": {
       "version_major": 2,
       "version_minor": 0,
       "model_id": "409899954a5845afb73d985915697b8c"
      }
     },
     "metadata": {},
     "output_type": "display_data"
    }
   ],
   "execution_count": 20
  },
  {
   "metadata": {
    "ExecuteTime": {
     "end_time": "2025-04-26T12:04:05.859422Z",
     "start_time": "2025-04-26T12:04:05.844906Z"
    }
   },
   "cell_type": "code",
   "source": [
    "# ================ 7. АНАЛИЗ РЕЗУЛЬТАТОВ ================\n",
    "print(\"Анализ результатов симуляции...\")\n",
    "\n",
    "# Отбираем только варианты с положительным балансом\n",
    "profitable = simulation_results[simulation_results['balance'] >= 0]\n",
    "\n",
    "if len(profitable) > 0:\n",
    "    # Находим порог с максимальным оборотом при положительном балансе\n",
    "    best_row = profitable.loc[profitable['turnover'].idxmax()]\n",
    "    best_threshold = best_row['threshold']\n",
    "\n",
    "    print(\"\\n=== ОПТИМАЛЬНЫЙ ПОРОГ ДЛЯ МАКСИМИЗАЦИИ ОБОРОТА ===\")\n",
    "    print(f\"Порог вероятности: {best_threshold:.4f}\")\n",
    "    print(f\"Показы: {best_row['shows']}\")\n",
    "    print(f\"Конверсии: {best_row['conversions']}\")\n",
    "    print(f\"Расходы: ${best_row['spend']}\")\n",
    "    print(f\"Доходы: ${best_row['revenue']}\")\n",
    "    print(f\"Баланс: ${best_row['balance']}\")\n",
    "    print(f\"Оборот: ${best_row['turnover']}\")\n",
    "    print(f\"Конверсия: {best_row['conv_rate']:.2%}\")\n",
    "else:\n",
    "    print(\"Не найдено вариантов с положительным балансом. Попробуйте другие параметры модели.\")"
   ],
   "id": "52e244bee2ae586c",
   "outputs": [
    {
     "name": "stdout",
     "output_type": "stream",
     "text": [
      "Анализ результатов симуляции...\n",
      "\n",
      "=== ОПТИМАЛЬНЫЙ ПОРОГ ДЛЯ МАКСИМИЗАЦИИ ОБОРОТА ===\n",
      "Порог вероятности: 0.3173\n",
      "Показы: 9.0\n",
      "Конверсии: 2.0\n",
      "Расходы: $9.0\n",
      "Доходы: $10.0\n",
      "Баланс: $1.0\n",
      "Оборот: $19.0\n",
      "Конверсия: 22.22%\n"
     ]
    }
   ],
   "execution_count": 21
  },
  {
   "metadata": {
    "ExecuteTime": {
     "end_time": "2025-04-26T12:04:06.647229Z",
     "start_time": "2025-04-26T12:04:05.986630Z"
    }
   },
   "cell_type": "code",
   "source": [
    "# ================ 8. ВИЗУАЛИЗАЦИЯ ================\n",
    "plt.figure(figsize=(12, 8))\n",
    "\n",
    "# График оборота\n",
    "plt.subplot(2, 2, 1)\n",
    "plt.plot(simulation_results['threshold'], simulation_results['turnover'], 'b-', marker='o')\n",
    "plt.axvline(x=best_threshold, color='r', linestyle='--')\n",
    "plt.title('Оборот')\n",
    "plt.xlabel('Порог вероятности')\n",
    "plt.ylabel('Оборот ($)')\n",
    "plt.grid(True)\n",
    "\n",
    "# График баланса\n",
    "plt.subplot(2, 2, 2)\n",
    "plt.plot(simulation_results['threshold'], simulation_results['balance'], 'g-', marker='o')\n",
    "plt.axvline(x=best_threshold, color='r', linestyle='--')\n",
    "plt.axhline(y=0, color='k', linestyle='-')\n",
    "plt.title('Баланс')\n",
    "plt.xlabel('Порог вероятности')\n",
    "plt.ylabel('Баланс ($)')\n",
    "plt.grid(True)\n",
    "\n",
    "# График количества показов\n",
    "plt.subplot(2, 2, 3)\n",
    "plt.plot(simulation_results['threshold'], simulation_results['shows'], 'c-', marker='o')\n",
    "plt.axvline(x=best_threshold, color='r', linestyle='--')\n",
    "plt.title('Показы')\n",
    "plt.xlabel('Порог вероятности')\n",
    "plt.ylabel('Количество показов')\n",
    "plt.grid(True)\n",
    "\n",
    "# График конверсии\n",
    "plt.subplot(2, 2, 4)\n",
    "plt.plot(simulation_results['threshold'], simulation_results['conv_rate'], 'm-', marker='o')\n",
    "plt.axvline(x=best_threshold, color='r', linestyle='--')\n",
    "plt.title('Конверсия')\n",
    "plt.xlabel('Порог вероятности')\n",
    "plt.ylabel('Конверсия (%)')\n",
    "plt.grid(True)\n",
    "\n",
    "plt.tight_layout()\n",
    "plt.savefig('simulation_results.png')\n",
    "\n",
    "print(\"\\nАнализ завершен. Результаты сохранены в simulation_results.png\")"
   ],
   "id": "e451b103a6a976d0",
   "outputs": [
    {
     "name": "stdout",
     "output_type": "stream",
     "text": [
      "\n",
      "Анализ завершен. Результаты сохранены в simulation_results.png\n"
     ]
    },
    {
     "data": {
      "text/plain": [
       "<Figure size 1200x800 with 4 Axes>"
      ],
      "image/png": "[encoded data removed]"
     },
     "metadata": {},
     "output_type": "display_data"
    }
   ],
   "execution_count": 22
  },
  {
   "metadata": {
    "ExecuteTime": {
     "end_time": "2025-04-26T12:03:24.439457Z",
     "start_time": "2025-04-26T12:03:24.424940Z"
    }
   },
   "cell_type": "code",
   "source": "",
   "id": "9909f23d07300d93",
   "outputs": [],
   "execution_count": null
  }
 ],
 "metadata": {
  "kernelspec": {
   "display_name": "Python 3",
   "language": "python",
   "name": "python3"
  },
  "language_info": {
   "codemirror_mode": {
    "name": "ipython",
    "version": 2
   },
   "file_extension": ".py",
   "mimetype": "text/x-python",
   "name": "python",
   "nbconvert_exporter": "python",
   "pygments_lexer": "ipython2",
   "version": "2.7.6"
  }
 },
 "nbformat": 4,
 "nbformat_minor": 5
}
