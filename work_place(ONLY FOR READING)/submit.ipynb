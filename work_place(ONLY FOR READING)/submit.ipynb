{
 "cells": [
  {
   "metadata": {
    "ExecuteTime": {
     "end_time": "2025-04-25T22:49:30.415940Z",
     "start_time": "2025-04-25T22:49:29.103710Z"
    }
   },
   "cell_type": "code",
   "source": [
    "import pandas as pd\n",
    "import numpy as np\n",
    "from datetime import datetime, timedelta\n",
    "from tqdm.auto import tqdm\n",
    "from sklearn.model_selection import train_test_split\n",
    "from xgboost import XGBClassifier\n",
    "from sklearn.metrics import roc_auc_score, classification_report\n",
    "import matplotlib.pyplot as plt"
   ],
   "id": "eb7d8dfd2e583e71",
   "outputs": [
    {
     "name": "stderr",
     "output_type": "stream",
     "text": [
      "S:\\anaconda3\\envs\\hh_casualml_test\\lib\\site-packages\\scipy\\__init__.py:146: UserWarning: A NumPy version >=1.16.5 and <1.23.0 is required for this version of SciPy (detected version 1.24.4\n",
      "  warnings.warn(f\"A NumPy version >={np_minversion} and <{np_maxversion}\"\n"
     ]
    }
   ],
   "execution_count": 1
  },
  {
   "metadata": {
    "ExecuteTime": {
     "end_time": "2025-04-25T22:49:54.928718Z",
     "start_time": "2025-04-25T22:49:32.308104Z"
    }
   },
   "cell_type": "code",
   "source": [
    "# ================ 1. ЗАГРУЗКА ДАННЫХ ================\n",
    "print(\"Загрузка данных...\")\n",
    "triggers = pd.read_csv('triggers.csv', parse_dates=['date'])\n",
    "actions = pd.read_csv('actions.csv', parse_dates=['date'])\n",
    "\n",
    "# Определяем max_date для окон\n",
    "max_date = max(triggers['date'].max(), actions['date'].max())"
   ],
   "id": "bd343e0a7e214ed4",
   "outputs": [
    {
     "name": "stdout",
     "output_type": "stream",
     "text": [
      "Загрузка данных...\n"
     ]
    }
   ],
   "execution_count": 2
  },
  {
   "metadata": {
    "ExecuteTime": {
     "end_time": "2025-04-25T22:51:10.374271Z",
     "start_time": "2025-04-25T22:49:54.933225Z"
    }
   },
   "cell_type": "code",
   "source": [
    "# ================ 2. ПОДГОТОВКА ПРИЗНАКОВ ================\n",
    "print(\"Подготовка признаков...\")\n",
    "\n",
    "def aggregate_features(df, by, date_col, windows, col, max_date):\n",
    "    \"\"\"Агрегация признаков по временным окнам\"\"\"\n",
    "    chunks = []\n",
    "    for w in tqdm(windows, desc=f'agg {col} windows'):\n",
    "        start = max_date - pd.Timedelta(days=w)\n",
    "        df_w = df[df[date_col] >= start]\n",
    "        agg = (\n",
    "            df_w\n",
    "            .groupby(by)[col]\n",
    "            .agg(count='count', unique='nunique')\n",
    "            .rename(columns={\n",
    "                'count': f'count_{w}d',\n",
    "                'unique': f'unique_{w}d'\n",
    "            })\n",
    "        )\n",
    "        chunks.append(agg)\n",
    "    return pd.concat(chunks, axis=1).fillna(0)\n",
    "\n",
    "# Строим фичи из triggers\n",
    "windows = [7, 14, 30]\n",
    "f_tr = aggregate_features(triggers, 'guid', 'date', windows, 'trigger', max_date)\n",
    "f_ty = aggregate_features(triggers, 'guid', 'date', windows, 'type', max_date)\n",
    "\n",
    "# Добавляем префиксы\n",
    "f_tr = f_tr.add_prefix('tr_')\n",
    "f_ty = f_ty.add_prefix('ty_')\n",
    "\n",
    "# Агрегация признаков из actions\n",
    "act_agg = (\n",
    "    actions\n",
    "    .groupby('guid')\n",
    "    .agg(\n",
    "        shows_count=('date', 'count'),\n",
    "        positive_shows=('result', 'sum'),\n",
    "        last_show=('date', 'max')\n",
    "    )\n",
    ")\n",
    "act_agg['days_since_last_show'] = (\n",
    "        max_date - act_agg['last_show']\n",
    ").dt.days.fillna(999)\n",
    "\n",
    "# Объединяем все признаки\n",
    "features = (\n",
    "    f_tr\n",
    "    .join(f_ty, how='outer')\n",
    "    .join(act_agg, how='outer')\n",
    "    .fillna({\n",
    "        'shows_count': 0,\n",
    "        'positive_shows': 0,\n",
    "        'days_since_last_show': 999\n",
    "    })\n",
    ")\n",
    "features['user_ctr'] = (\n",
    "        features['positive_shows'] / features['shows_count'].replace(0, 1)\n",
    ")\n",
    "\n",
    "# Добавляем recency из triggers\n",
    "last_visit = triggers.groupby('guid')['date'].max()\n",
    "features['days_since_last_visit'] = (\n",
    "        max_date - last_visit\n",
    ").dt.days.fillna(999)\n",
    "\n",
    "# Сохраняем признаки\n",
    "features.reset_index().to_csv('features_xgb.csv', index=False)\n",
    "print(f\"Признаки сохранены, размер: {features.shape}\")"
   ],
   "id": "a686c9b940fb87c2",
   "outputs": [
    {
     "name": "stdout",
     "output_type": "stream",
     "text": [
      "Подготовка признаков...\n"
     ]
    },
    {
     "data": {
      "text/plain": [
       "agg trigger windows:   0%|          | 0/3 [00:00<?, ?it/s]"
      ],
      "application/vnd.jupyter.widget-view+json": {
       "version_major": 2,
       "version_minor": 0,
       "model_id": "4d7b60a1575d42ef9a0205a9b431d26b"
      }
     },
     "metadata": {},
     "output_type": "display_data"
    },
    {
     "data": {
      "text/plain": [
       "agg type windows:   0%|          | 0/3 [00:00<?, ?it/s]"
      ],
      "application/vnd.jupyter.widget-view+json": {
       "version_major": 2,
       "version_minor": 0,
       "model_id": "9f0ab4417702449b881e1b55fb622e8b"
      }
     },
     "metadata": {},
     "output_type": "display_data"
    },
    {
     "name": "stdout",
     "output_type": "stream",
     "text": [
      "Признаки сохранены, размер: (1009806, 18)\n"
     ]
    }
   ],
   "execution_count": 3
  },
  {
   "metadata": {
    "ExecuteTime": {
     "end_time": "2025-04-25T22:55:50.580247Z",
     "start_time": "2025-04-25T22:55:44.773856Z"
    }
   },
   "cell_type": "code",
   "source": [
    "# ================ 3. ПОДГОТОВКА ДАННЫХ ДЛЯ ОБУЧЕНИЯ ================\n",
    "print(\"Подготовка данных для обучения...\")\n",
    "\n",
    "# Соединяем признаки с целевой переменной\n",
    "feat = pd.read_csv('features_xgb.csv')\n",
    "X = feat.drop(columns=['guid', 'last_show', 'shows_count', 'positive_shows', 'days_since_last_show', 'user_ctr'])\n",
    "\n",
    "# загружаем признаки и метки\n",
    "feat = pd.read_csv('features_xgb.csv')\n",
    "acts = pd.read_csv('actions.csv', parse_dates=['date'])\n",
    "df = feat.merge(acts[['guid','result']], on='guid').dropna(subset=['result'])\n",
    "df = df.drop([\"guid\",\"last_show\"], axis=1)\n",
    "train_df = pd.DataFrame(df)\n",
    "train_df.to_csv('train_data.csv', index=False)\n",
    "\n",
    "# Готовим X и y\n",
    "X = train_df.drop(columns=['result'])\n",
    "y = train_df['result']\n",
    "\n",
    "# Разбиение на train/val/test\n",
    "X_train, X_test, y_train, y_test = train_test_split(\n",
    "    X, y, test_size=0.2, random_state=42, stratify=y)"
   ],
   "id": "6ca37322a3c3e40f",
   "outputs": [
    {
     "name": "stdout",
     "output_type": "stream",
     "text": [
      "Подготовка данных для обучения...\n"
     ]
    }
   ],
   "execution_count": 9
  },
  {
   "metadata": {
    "ExecuteTime": {
     "end_time": "2025-04-25T22:55:53.547790Z",
     "start_time": "2025-04-25T22:55:53.529178Z"
    }
   },
   "cell_type": "code",
   "source": "X_train",
   "id": "179ccb0a17846ad8",
   "outputs": [
    {
     "data": {
      "text/plain": [
       "        tr_count_7d  tr_unique_7d  tr_count_14d  tr_unique_14d  tr_count_30d  \\\n",
       "226869         44.0           7.0          58.0           11.0         107.0   \n",
       "229294          0.0           0.0           2.0            2.0           2.0   \n",
       "34458         246.0           1.0         334.0            2.0         355.0   \n",
       "10450          48.0          10.0          70.0           12.0         106.0   \n",
       "216320          7.0           6.0          13.0            8.0         415.0   \n",
       "...             ...           ...           ...            ...           ...   \n",
       "355262          0.0           0.0           0.0            0.0          37.0   \n",
       "208257         31.0           9.0         202.0           39.0         233.0   \n",
       "60817          24.0           9.0          30.0           11.0          85.0   \n",
       "258681         36.0          17.0         409.0           73.0         443.0   \n",
       "21267         167.0          43.0         177.0           48.0         591.0   \n",
       "\n",
       "        tr_unique_30d  ty_count_7d  ty_unique_7d  ty_count_14d  ty_unique_14d  \\\n",
       "226869           12.0         44.0           2.0          58.0            2.0   \n",
       "229294            2.0          0.0           0.0           2.0            1.0   \n",
       "34458             2.0        246.0           1.0         334.0            1.0   \n",
       "10450            34.0         48.0           2.0          70.0            2.0   \n",
       "216320           25.0          7.0           1.0          13.0            1.0   \n",
       "...               ...          ...           ...           ...            ...   \n",
       "355262           14.0          0.0           0.0           0.0            0.0   \n",
       "208257           43.0         31.0           2.0         202.0            3.0   \n",
       "60817            14.0         24.0           2.0          30.0            2.0   \n",
       "258681           79.0         36.0           2.0         409.0            2.0   \n",
       "21267           112.0        167.0           2.0         177.0            2.0   \n",
       "\n",
       "        ty_count_30d  ty_unique_30d  shows_count  positive_shows  \\\n",
       "226869         107.0            2.0          2.0             0.0   \n",
       "229294           2.0            1.0          1.0             0.0   \n",
       "34458          355.0            1.0          2.0             0.0   \n",
       "10450          106.0            2.0          2.0             1.0   \n",
       "216320         415.0            3.0          2.0             0.0   \n",
       "...              ...            ...          ...             ...   \n",
       "355262          37.0            1.0          1.0             0.0   \n",
       "208257         233.0            3.0          2.0             0.0   \n",
       "60817           85.0            2.0          2.0             0.0   \n",
       "258681         443.0            2.0          1.0             0.0   \n",
       "21267          591.0            2.0          2.0             0.0   \n",
       "\n",
       "        days_since_last_show  user_ctr  days_since_last_visit  \n",
       "226869                  11.0       0.0                      0  \n",
       "229294                  13.0       0.0                     13  \n",
       "34458                    0.0       0.0                      0  \n",
       "10450                    1.0       0.5                      0  \n",
       "216320                   2.0       0.0                      2  \n",
       "...                      ...       ...                    ...  \n",
       "355262                  24.0       0.0                     24  \n",
       "208257                   4.0       0.0                      0  \n",
       "60817                    8.0       0.0                      0  \n",
       "258681                  11.0       0.0                      1  \n",
       "21267                    9.0       0.0                      0  \n",
       "\n",
       "[302563 rows x 17 columns]"
      ],
      "text/html": [
       "<div>\n",
       "<style scoped>\n",
       "    .dataframe tbody tr th:only-of-type {\n",
       "        vertical-align: middle;\n",
       "    }\n",
       "\n",
       "    .dataframe tbody tr th {\n",
       "        vertical-align: top;\n",
       "    }\n",
       "\n",
       "    .dataframe thead th {\n",
       "        text-align: right;\n",
       "    }\n",
       "</style>\n",
       "<table border=\"1\" class=\"dataframe\">\n",
       "  <thead>\n",
       "    <tr style=\"text-align: right;\">\n",
       "      <th></th>\n",
       "      <th>tr_count_7d</th>\n",
       "      <th>tr_unique_7d</th>\n",
       "      <th>tr_count_14d</th>\n",
       "      <th>tr_unique_14d</th>\n",
       "      <th>tr_count_30d</th>\n",
       "      <th>tr_unique_30d</th>\n",
       "      <th>ty_count_7d</th>\n",
       "      <th>ty_unique_7d</th>\n",
       "      <th>ty_count_14d</th>\n",
       "      <th>ty_unique_14d</th>\n",
       "      <th>ty_count_30d</th>\n",
       "      <th>ty_unique_30d</th>\n",
       "      <th>shows_count</th>\n",
       "      <th>positive_shows</th>\n",
       "      <th>days_since_last_show</th>\n",
       "      <th>user_ctr</th>\n",
       "      <th>days_since_last_visit</th>\n",
       "    </tr>\n",
       "  </thead>\n",
       "  <tbody>\n",
       "    <tr>\n",
       "      <th>226869</th>\n",
       "      <td>44.0</td>\n",
       "      <td>7.0</td>\n",
       "      <td>58.0</td>\n",
       "      <td>11.0</td>\n",
       "      <td>107.0</td>\n",
       "      <td>12.0</td>\n",
       "      <td>44.0</td>\n",
       "      <td>2.0</td>\n",
       "      <td>58.0</td>\n",
       "      <td>2.0</td>\n",
       "      <td>107.0</td>\n",
       "      <td>2.0</td>\n",
       "      <td>2.0</td>\n",
       "      <td>0.0</td>\n",
       "      <td>11.0</td>\n",
       "      <td>0.0</td>\n",
       "      <td>0</td>\n",
       "    </tr>\n",
       "    <tr>\n",
       "      <th>229294</th>\n",
       "      <td>0.0</td>\n",
       "      <td>0.0</td>\n",
       "      <td>2.0</td>\n",
       "      <td>2.0</td>\n",
       "      <td>2.0</td>\n",
       "      <td>2.0</td>\n",
       "      <td>0.0</td>\n",
       "      <td>0.0</td>\n",
       "      <td>2.0</td>\n",
       "      <td>1.0</td>\n",
       "      <td>2.0</td>\n",
       "      <td>1.0</td>\n",
       "      <td>1.0</td>\n",
       "      <td>0.0</td>\n",
       "      <td>13.0</td>\n",
       "      <td>0.0</td>\n",
       "      <td>13</td>\n",
       "    </tr>\n",
       "    <tr>\n",
       "      <th>34458</th>\n",
       "      <td>246.0</td>\n",
       "      <td>1.0</td>\n",
       "      <td>334.0</td>\n",
       "      <td>2.0</td>\n",
       "      <td>355.0</td>\n",
       "      <td>2.0</td>\n",
       "      <td>246.0</td>\n",
       "      <td>1.0</td>\n",
       "      <td>334.0</td>\n",
       "      <td>1.0</td>\n",
       "      <td>355.0</td>\n",
       "      <td>1.0</td>\n",
       "      <td>2.0</td>\n",
       "      <td>0.0</td>\n",
       "      <td>0.0</td>\n",
       "      <td>0.0</td>\n",
       "      <td>0</td>\n",
       "    </tr>\n",
       "    <tr>\n",
       "      <th>10450</th>\n",
       "      <td>48.0</td>\n",
       "      <td>10.0</td>\n",
       "      <td>70.0</td>\n",
       "      <td>12.0</td>\n",
       "      <td>106.0</td>\n",
       "      <td>34.0</td>\n",
       "      <td>48.0</td>\n",
       "      <td>2.0</td>\n",
       "      <td>70.0</td>\n",
       "      <td>2.0</td>\n",
       "      <td>106.0</td>\n",
       "      <td>2.0</td>\n",
       "      <td>2.0</td>\n",
       "      <td>1.0</td>\n",
       "      <td>1.0</td>\n",
       "      <td>0.5</td>\n",
       "      <td>0</td>\n",
       "    </tr>\n",
       "    <tr>\n",
       "      <th>216320</th>\n",
       "      <td>7.0</td>\n",
       "      <td>6.0</td>\n",
       "      <td>13.0</td>\n",
       "      <td>8.0</td>\n",
       "      <td>415.0</td>\n",
       "      <td>25.0</td>\n",
       "      <td>7.0</td>\n",
       "      <td>1.0</td>\n",
       "      <td>13.0</td>\n",
       "      <td>1.0</td>\n",
       "      <td>415.0</td>\n",
       "      <td>3.0</td>\n",
       "      <td>2.0</td>\n",
       "      <td>0.0</td>\n",
       "      <td>2.0</td>\n",
       "      <td>0.0</td>\n",
       "      <td>2</td>\n",
       "    </tr>\n",
       "    <tr>\n",
       "      <th>...</th>\n",
       "      <td>...</td>\n",
       "      <td>...</td>\n",
       "      <td>...</td>\n",
       "      <td>...</td>\n",
       "      <td>...</td>\n",
       "      <td>...</td>\n",
       "      <td>...</td>\n",
       "      <td>...</td>\n",
       "      <td>...</td>\n",
       "      <td>...</td>\n",
       "      <td>...</td>\n",
       "      <td>...</td>\n",
       "      <td>...</td>\n",
       "      <td>...</td>\n",
       "      <td>...</td>\n",
       "      <td>...</td>\n",
       "      <td>...</td>\n",
       "    </tr>\n",
       "    <tr>\n",
       "      <th>355262</th>\n",
       "      <td>0.0</td>\n",
       "      <td>0.0</td>\n",
       "      <td>0.0</td>\n",
       "      <td>0.0</td>\n",
       "      <td>37.0</td>\n",
       "      <td>14.0</td>\n",
       "      <td>0.0</td>\n",
       "      <td>0.0</td>\n",
       "      <td>0.0</td>\n",
       "      <td>0.0</td>\n",
       "      <td>37.0</td>\n",
       "      <td>1.0</td>\n",
       "      <td>1.0</td>\n",
       "      <td>0.0</td>\n",
       "      <td>24.0</td>\n",
       "      <td>0.0</td>\n",
       "      <td>24</td>\n",
       "    </tr>\n",
       "    <tr>\n",
       "      <th>208257</th>\n",
       "      <td>31.0</td>\n",
       "      <td>9.0</td>\n",
       "      <td>202.0</td>\n",
       "      <td>39.0</td>\n",
       "      <td>233.0</td>\n",
       "      <td>43.0</td>\n",
       "      <td>31.0</td>\n",
       "      <td>2.0</td>\n",
       "      <td>202.0</td>\n",
       "      <td>3.0</td>\n",
       "      <td>233.0</td>\n",
       "      <td>3.0</td>\n",
       "      <td>2.0</td>\n",
       "      <td>0.0</td>\n",
       "      <td>4.0</td>\n",
       "      <td>0.0</td>\n",
       "      <td>0</td>\n",
       "    </tr>\n",
       "    <tr>\n",
       "      <th>60817</th>\n",
       "      <td>24.0</td>\n",
       "      <td>9.0</td>\n",
       "      <td>30.0</td>\n",
       "      <td>11.0</td>\n",
       "      <td>85.0</td>\n",
       "      <td>14.0</td>\n",
       "      <td>24.0</td>\n",
       "      <td>2.0</td>\n",
       "      <td>30.0</td>\n",
       "      <td>2.0</td>\n",
       "      <td>85.0</td>\n",
       "      <td>2.0</td>\n",
       "      <td>2.0</td>\n",
       "      <td>0.0</td>\n",
       "      <td>8.0</td>\n",
       "      <td>0.0</td>\n",
       "      <td>0</td>\n",
       "    </tr>\n",
       "    <tr>\n",
       "      <th>258681</th>\n",
       "      <td>36.0</td>\n",
       "      <td>17.0</td>\n",
       "      <td>409.0</td>\n",
       "      <td>73.0</td>\n",
       "      <td>443.0</td>\n",
       "      <td>79.0</td>\n",
       "      <td>36.0</td>\n",
       "      <td>2.0</td>\n",
       "      <td>409.0</td>\n",
       "      <td>2.0</td>\n",
       "      <td>443.0</td>\n",
       "      <td>2.0</td>\n",
       "      <td>1.0</td>\n",
       "      <td>0.0</td>\n",
       "      <td>11.0</td>\n",
       "      <td>0.0</td>\n",
       "      <td>1</td>\n",
       "    </tr>\n",
       "    <tr>\n",
       "      <th>21267</th>\n",
       "      <td>167.0</td>\n",
       "      <td>43.0</td>\n",
       "      <td>177.0</td>\n",
       "      <td>48.0</td>\n",
       "      <td>591.0</td>\n",
       "      <td>112.0</td>\n",
       "      <td>167.0</td>\n",
       "      <td>2.0</td>\n",
       "      <td>177.0</td>\n",
       "      <td>2.0</td>\n",
       "      <td>591.0</td>\n",
       "      <td>2.0</td>\n",
       "      <td>2.0</td>\n",
       "      <td>0.0</td>\n",
       "      <td>9.0</td>\n",
       "      <td>0.0</td>\n",
       "      <td>0</td>\n",
       "    </tr>\n",
       "  </tbody>\n",
       "</table>\n",
       "<p>302563 rows × 17 columns</p>\n",
       "</div>"
      ]
     },
     "execution_count": 10,
     "metadata": {},
     "output_type": "execute_result"
    }
   ],
   "execution_count": 10
  },
  {
   "metadata": {
    "ExecuteTime": {
     "end_time": "2025-04-25T22:56:06.021499Z",
     "start_time": "2025-04-25T22:56:05.280235Z"
    }
   },
   "cell_type": "code",
   "source": [
    "# ================ 4. ОБУЧЕНИЕ МОДЕЛИ ================\n",
    "print(\"Обучение модели...\")\n",
    "\n",
    "# Параметры для балансировки классов\n",
    "ratio = (y_train == 0).sum() / (y_train == 1).sum()\n",
    "\n",
    "# Обучение модели\n",
    "model = XGBClassifier(\n",
    "    eval_metric='logloss',\n",
    "    scale_pos_weight=ratio,\n",
    "    n_estimators=100,\n",
    "    max_depth=5,\n",
    "    learning_rate=0.05,\n",
    "    subsample=0.8,\n",
    "    colsample_bytree=0.8,\n",
    "    min_child_weight=1,\n",
    "    gamma=0,\n",
    "    reg_alpha=0,\n",
    "    reg_lambda=1,\n",
    ")\n",
    "model.fit(X_train, y_train, verbose=100)"
   ],
   "id": "f58b2da22d461e08",
   "outputs": [
    {
     "name": "stdout",
     "output_type": "stream",
     "text": [
      "Обучение модели...\n"
     ]
    },
    {
     "data": {
      "text/plain": [
       "XGBClassifier(base_score=None, booster=None, callbacks=None,\n",
       "              colsample_bylevel=None, colsample_bynode=None,\n",
       "              colsample_bytree=0.8, device=None, early_stopping_rounds=None,\n",
       "              enable_categorical=False, eval_metric='logloss',\n",
       "              feature_types=None, gamma=0, grow_policy=None,\n",
       "              importance_type=None, interaction_constraints=None,\n",
       "              learning_rate=0.05, max_bin=None, max_cat_threshold=None,\n",
       "              max_cat_to_onehot=None, max_delta_step=None, max_depth=5,\n",
       "              max_leaves=None, min_child_weight=1, missing=nan,\n",
       "              monotone_constraints=None, multi_strategy=None, n_estimators=100,\n",
       "              n_jobs=None, num_parallel_tree=None, random_state=None, ...)"
      ],
      "text/html": [
       "<style>#sk-container-id-2 {color: black;}#sk-container-id-2 pre{padding: 0;}#sk-container-id-2 div.sk-toggleable {background-color: white;}#sk-container-id-2 label.sk-toggleable__label {cursor: pointer;display: block;width: 100%;margin-bottom: 0;padding: 0.3em;box-sizing: border-box;text-align: center;}#sk-container-id-2 label.sk-toggleable__label-arrow:before {content: \"▸\";float: left;margin-right: 0.25em;color: #696969;}#sk-container-id-2 label.sk-toggleable__label-arrow:hover:before {color: black;}#sk-container-id-2 div.sk-estimator:hover label.sk-toggleable__label-arrow:before {color: black;}#sk-container-id-2 div.sk-toggleable__content {max-height: 0;max-width: 0;overflow: hidden;text-align: left;background-color: #f0f8ff;}#sk-container-id-2 div.sk-toggleable__content pre {margin: 0.2em;color: black;border-radius: 0.25em;background-color: #f0f8ff;}#sk-container-id-2 input.sk-toggleable__control:checked~div.sk-toggleable__content {max-height: 200px;max-width: 100%;overflow: auto;}#sk-container-id-2 input.sk-toggleable__control:checked~label.sk-toggleable__label-arrow:before {content: \"▾\";}#sk-container-id-2 div.sk-estimator input.sk-toggleable__control:checked~label.sk-toggleable__label {background-color: #d4ebff;}#sk-container-id-2 div.sk-label input.sk-toggleable__control:checked~label.sk-toggleable__label {background-color: #d4ebff;}#sk-container-id-2 input.sk-hidden--visually {border: 0;clip: rect(1px 1px 1px 1px);clip: rect(1px, 1px, 1px, 1px);height: 1px;margin: -1px;overflow: hidden;padding: 0;position: absolute;width: 1px;}#sk-container-id-2 div.sk-estimator {font-family: monospace;background-color: #f0f8ff;border: 1px dotted black;border-radius: 0.25em;box-sizing: border-box;margin-bottom: 0.5em;}#sk-container-id-2 div.sk-estimator:hover {background-color: #d4ebff;}#sk-container-id-2 div.sk-parallel-item::after {content: \"\";width: 100%;border-bottom: 1px solid gray;flex-grow: 1;}#sk-container-id-2 div.sk-label:hover label.sk-toggleable__label {background-color: #d4ebff;}#sk-container-id-2 div.sk-serial::before {content: \"\";position: absolute;border-left: 1px solid gray;box-sizing: border-box;top: 0;bottom: 0;left: 50%;z-index: 0;}#sk-container-id-2 div.sk-serial {display: flex;flex-direction: column;align-items: center;background-color: white;padding-right: 0.2em;padding-left: 0.2em;position: relative;}#sk-container-id-2 div.sk-item {position: relative;z-index: 1;}#sk-container-id-2 div.sk-parallel {display: flex;align-items: stretch;justify-content: center;background-color: white;position: relative;}#sk-container-id-2 div.sk-item::before, #sk-container-id-2 div.sk-parallel-item::before {content: \"\";position: absolute;border-left: 1px solid gray;box-sizing: border-box;top: 0;bottom: 0;left: 50%;z-index: -1;}#sk-container-id-2 div.sk-parallel-item {display: flex;flex-direction: column;z-index: 1;position: relative;background-color: white;}#sk-container-id-2 div.sk-parallel-item:first-child::after {align-self: flex-end;width: 50%;}#sk-container-id-2 div.sk-parallel-item:last-child::after {align-self: flex-start;width: 50%;}#sk-container-id-2 div.sk-parallel-item:only-child::after {width: 0;}#sk-container-id-2 div.sk-dashed-wrapped {border: 1px dashed gray;margin: 0 0.4em 0.5em 0.4em;box-sizing: border-box;padding-bottom: 0.4em;background-color: white;}#sk-container-id-2 div.sk-label label {font-family: monospace;font-weight: bold;display: inline-block;line-height: 1.2em;}#sk-container-id-2 div.sk-label-container {text-align: center;}#sk-container-id-2 div.sk-container {/* jupyter's `normalize.less` sets `[hidden] { display: none; }` but bootstrap.min.css set `[hidden] { display: none !important; }` so we also need the `!important` here to be able to override the default hidden behavior on the sphinx rendered scikit-learn.org. See: https://github.com/scikit-learn/scikit-learn/issues/21755 */display: inline-block !important;position: relative;}#sk-container-id-2 div.sk-text-repr-fallback {display: none;}</style><div id=\"sk-container-id-2\" class=\"sk-top-container\"><div class=\"sk-text-repr-fallback\"><pre>XGBClassifier(base_score=None, booster=None, callbacks=None,\n",
       "              colsample_bylevel=None, colsample_bynode=None,\n",
       "              colsample_bytree=0.8, device=None, early_stopping_rounds=None,\n",
       "              enable_categorical=False, eval_metric=&#x27;logloss&#x27;,\n",
       "              feature_types=None, gamma=0, grow_policy=None,\n",
       "              importance_type=None, interaction_constraints=None,\n",
       "              learning_rate=0.05, max_bin=None, max_cat_threshold=None,\n",
       "              max_cat_to_onehot=None, max_delta_step=None, max_depth=5,\n",
       "              max_leaves=None, min_child_weight=1, missing=nan,\n",
       "              monotone_constraints=None, multi_strategy=None, n_estimators=100,\n",
       "              n_jobs=None, num_parallel_tree=None, random_state=None, ...)</pre><b>In a Jupyter environment, please rerun this cell to show the HTML representation or trust the notebook. <br />On GitHub, the HTML representation is unable to render, please try loading this page with nbviewer.org.</b></div><div class=\"sk-container\" hidden><div class=\"sk-item\"><div class=\"sk-estimator sk-toggleable\"><input class=\"sk-toggleable__control sk-hidden--visually\" id=\"sk-estimator-id-2\" type=\"checkbox\" checked><label for=\"sk-estimator-id-2\" class=\"sk-toggleable__label sk-toggleable__label-arrow\">XGBClassifier</label><div class=\"sk-toggleable__content\"><pre>XGBClassifier(base_score=None, booster=None, callbacks=None,\n",
       "              colsample_bylevel=None, colsample_bynode=None,\n",
       "              colsample_bytree=0.8, device=None, early_stopping_rounds=None,\n",
       "              enable_categorical=False, eval_metric=&#x27;logloss&#x27;,\n",
       "              feature_types=None, gamma=0, grow_policy=None,\n",
       "              importance_type=None, interaction_constraints=None,\n",
       "              learning_rate=0.05, max_bin=None, max_cat_threshold=None,\n",
       "              max_cat_to_onehot=None, max_delta_step=None, max_depth=5,\n",
       "              max_leaves=None, min_child_weight=1, missing=nan,\n",
       "              monotone_constraints=None, multi_strategy=None, n_estimators=100,\n",
       "              n_jobs=None, num_parallel_tree=None, random_state=None, ...)</pre></div></div></div></div></div>"
      ]
     },
     "execution_count": 12,
     "metadata": {},
     "output_type": "execute_result"
    }
   ],
   "execution_count": 12
  },
  {
   "metadata": {
    "ExecuteTime": {
     "end_time": "2025-04-25T22:56:34.798004Z",
     "start_time": "2025-04-25T22:56:34.761415Z"
    }
   },
   "cell_type": "code",
   "source": [
    "# ================ 5. ОЦЕНКА МОДЕЛИ ================\n",
    "print(\"Оценка модели...\")\n",
    "\n",
    "# Предсказания на тестовой выборке\n",
    "y_proba = model.predict_proba(X_test)[:, 1]\n",
    "roc = roc_auc_score(y_test, y_proba)\n",
    "print(f\"ROC-AUC: {roc:.4f}\")"
   ],
   "id": "ba3d5708548bceca",
   "outputs": [
    {
     "name": "stdout",
     "output_type": "stream",
     "text": [
      "Оценка модели...\n",
      "ROC-AUC: 0.9964\n"
     ]
    }
   ],
   "execution_count": 13
  },
  {
   "metadata": {
    "ExecuteTime": {
     "end_time": "2025-04-25T23:06:44.435772Z",
     "start_time": "2025-04-25T23:02:18.472794Z"
    }
   },
   "cell_type": "code",
   "source": [
    "def simulate_campaign_fast(thresholds, freq_days=14):\n",
    "    \"\"\"\n",
    "    Оптимизированная симуляция кампании для разных порогов вероятности\n",
    "    \"\"\"\n",
    "    results = []\n",
    "\n",
    "    train_features = [\n",
    "        'tr_count_7d', 'tr_unique_7d', 'tr_count_14d', 'tr_unique_14d', 'tr_count_30d', 'tr_unique_30d',\n",
    "        'ty_count_7d', 'ty_unique_7d', 'ty_count_14d', 'ty_unique_14d', 'ty_count_30d', 'ty_unique_30d',\n",
    "        'shows_count', 'positive_shows', 'days_since_last_show', 'user_ctr', 'days_since_last_visit'\n",
    "    ]\n",
    "\n",
    "    # 1. Предварительно вычисляем вероятности для всех пользователей\n",
    "    print(\"Прогнозирование вероятностей конверсии...\")\n",
    "    probs = model.predict_proba(feat[train_features])[:, 1]\n",
    "\n",
    "    # 2. Создаем словарь {guid: prob} для быстрого доступа O(1)\n",
    "    guid_to_prob = dict(zip(feat['guid'], probs))\n",
    "\n",
    "    # 3. Предварительно обрабатываем данные о посещениях\n",
    "    print(\"Обработка данных о посещениях...\")\n",
    "    # Берем только нужные колонки и удаляем дубликаты\n",
    "    user_visits = triggers[['guid', 'date']].drop_duplicates()\n",
    "    # Фильтруем только пользователей, для которых есть прогнозы\n",
    "    user_visits = user_visits[user_visits['guid'].isin(guid_to_prob.keys())]\n",
    "    # Сортируем по дате\n",
    "    user_visits = user_visits.sort_values('date')\n",
    "\n",
    "    # 4. Группируем пользователей по датам для быстрого доступа\n",
    "    date_users = {}\n",
    "    for date, group in user_visits.groupby('date'):\n",
    "        date_users[date] = set(group['guid'])  # Множество для быстрого поиска\n",
    "\n",
    "    # 5. Сортируем даты заранее\n",
    "    dates = sorted(date_users.keys())\n",
    "\n",
    "    # 6. Запускаем симуляцию для каждого порога\n",
    "    for threshold in tqdm(thresholds, desc=\"Симуляция для порогов\"):\n",
    "        total_shows = 0\n",
    "        total_conversions = 0\n",
    "        last_shown = {}  # guid -> дата последнего показа\n",
    "\n",
    "        for date in dates:\n",
    "            for guid in date_users[date]:\n",
    "                # Получаем вероятность из словаря (быстрый доступ)\n",
    "                prob = guid_to_prob[guid]\n",
    "\n",
    "                # Пропускаем если ниже порога\n",
    "                if prob < threshold:\n",
    "                    continue\n",
    "\n",
    "                # Проверяем ограничение на частоту\n",
    "                if guid in last_shown:\n",
    "                    days_since_last = (date - last_shown[guid]).days\n",
    "                    if days_since_last < freq_days:\n",
    "                        continue\n",
    "\n",
    "                # Показываем баннер\n",
    "                total_shows += 1\n",
    "                last_shown[guid] = date\n",
    "\n",
    "                # Определяем конверсию по фактической вероятности\n",
    "                if np.random.random() < prob:\n",
    "                    total_conversions += 1\n",
    "\n",
    "        # Рассчитываем метрики\n",
    "        spend = total_shows  # $1 за показ\n",
    "        revenue = total_conversions * 5  # $5 за конверсию\n",
    "        balance = revenue - spend\n",
    "        turnover = revenue + spend\n",
    "\n",
    "        results.append({\n",
    "            'threshold': threshold,\n",
    "            'shows': total_shows,\n",
    "            'conversions': total_conversions,\n",
    "            'spend': spend,\n",
    "            'revenue': revenue,\n",
    "            'balance': balance,\n",
    "            'turnover': turnover,\n",
    "            'conv_rate': total_conversions / total_shows if total_shows > 0 else 0\n",
    "        })\n",
    "\n",
    "    return pd.DataFrame(results)\n",
    "\n",
    "# Генерируем список порогов для проверки\n",
    "thresholds = np.linspace(0.05, 0.95, 19)  # от 0.05 до 0.95 с шагом 0.05\n",
    "simulation_results = simulate_campaign_fast(thresholds)"
   ],
   "id": "b813f3d208d99832",
   "outputs": [
    {
     "name": "stdout",
     "output_type": "stream",
     "text": [
      "Прогнозирование вероятностей конверсии...\n",
      "Обработка данных о посещениях...\n"
     ]
    },
    {
     "data": {
      "text/plain": [
       "Симуляция для порогов:   0%|          | 0/19 [00:00<?, ?it/s]"
      ],
      "application/vnd.jupyter.widget-view+json": {
       "version_major": 2,
       "version_minor": 0,
       "model_id": "9af0be42d63241cc9f60534642200530"
      }
     },
     "metadata": {},
     "output_type": "display_data"
    }
   ],
   "execution_count": 16
  },
  {
   "metadata": {
    "ExecuteTime": {
     "end_time": "2025-04-25T23:07:01.823982Z",
     "start_time": "2025-04-25T23:07:01.817472Z"
    }
   },
   "cell_type": "code",
   "source": [
    "\n",
    "# ================ 7. АНАЛИЗ РЕЗУЛЬТАТОВ ================\n",
    "print(\"Анализ результатов симуляции...\")\n",
    "\n",
    "# Отбираем только варианты с положительным балансом\n",
    "profitable = simulation_results[simulation_results['balance'] >= 0]\n",
    "\n",
    "if len(profitable) > 0:\n",
    "    # Находим порог с максимальным оборотом при положительном балансе\n",
    "    best_row = profitable.loc[profitable['turnover'].idxmax()]\n",
    "    best_threshold = best_row['threshold']\n",
    "\n",
    "    print(\"\\n=== ОПТИМАЛЬНЫЙ ПОРОГ ДЛЯ МАКСИМИЗАЦИИ ОБОРОТА ===\")\n",
    "    print(f\"Порог вероятности: {best_threshold:.4f}\")\n",
    "    print(f\"Показы: {best_row['shows']}\")\n",
    "    print(f\"Конверсии: {best_row['conversions']}\")\n",
    "    print(f\"Расходы: ${best_row['spend']}\")\n",
    "    print(f\"Доходы: ${best_row['revenue']}\")\n",
    "    print(f\"Баланс: ${best_row['balance']}\")\n",
    "    print(f\"Оборот: ${best_row['turnover']}\")\n",
    "    print(f\"Конверсия: {best_row['conv_rate']:.2%}\")\n",
    "else:\n",
    "    print(\"Не найдено вариантов с положительным балансом. Попробуйте другие параметры модели.\")"
   ],
   "id": "93abac1ffe65420e",
   "outputs": [
    {
     "name": "stdout",
     "output_type": "stream",
     "text": [
      "Анализ результатов симуляции...\n",
      "\n",
      "=== ОПТИМАЛЬНЫЙ ПОРОГ ДЛЯ МАКСИМИЗАЦИИ ОБОРОТА ===\n",
      "Порог вероятности: 0.3000\n",
      "Показы: 20980.0\n",
      "Конверсии: 20561.0\n",
      "Расходы: $20980.0\n",
      "Доходы: $102805.0\n",
      "Баланс: $81825.0\n",
      "Оборот: $123785.0\n",
      "Конверсия: 98.00%\n"
     ]
    }
   ],
   "execution_count": 17
  },
  {
   "metadata": {
    "ExecuteTime": {
     "end_time": "2025-04-25T23:07:09.368537Z",
     "start_time": "2025-04-25T23:07:08.523416Z"
    }
   },
   "cell_type": "code",
   "source": [
    "# ================ 8. ВИЗУАЛИЗАЦИЯ ================\n",
    "plt.figure(figsize=(12, 8))\n",
    "\n",
    "# График оборота\n",
    "plt.subplot(2, 2, 1)\n",
    "plt.plot(simulation_results['threshold'], simulation_results['turnover'], 'b-', marker='o')\n",
    "plt.axvline(x=best_threshold, color='r', linestyle='--')\n",
    "plt.title('Оборот')\n",
    "plt.xlabel('Порог вероятности')\n",
    "plt.ylabel('Оборот ($)')\n",
    "plt.grid(True)\n",
    "\n",
    "# График баланса\n",
    "plt.subplot(2, 2, 2)\n",
    "plt.plot(simulation_results['threshold'], simulation_results['balance'], 'g-', marker='o')\n",
    "plt.axvline(x=best_threshold, color='r', linestyle='--')\n",
    "plt.axhline(y=0, color='k', linestyle='-')\n",
    "plt.title('Баланс')\n",
    "plt.xlabel('Порог вероятности')\n",
    "plt.ylabel('Баланс ($)')\n",
    "plt.grid(True)\n",
    "\n",
    "# График количества показов\n",
    "plt.subplot(2, 2, 3)\n",
    "plt.plot(simulation_results['threshold'], simulation_results['shows'], 'c-', marker='o')\n",
    "plt.axvline(x=best_threshold, color='r', linestyle='--')\n",
    "plt.title('Показы')\n",
    "plt.xlabel('Порог вероятности')\n",
    "plt.ylabel('Количество показов')\n",
    "plt.grid(True)\n",
    "\n",
    "# График конверсии\n",
    "plt.subplot(2, 2, 4)\n",
    "plt.plot(simulation_results['threshold'], simulation_results['conv_rate'], 'm-', marker='o')\n",
    "plt.axvline(x=best_threshold, color='r', linestyle='--')\n",
    "plt.title('Конверсия')\n",
    "plt.xlabel('Порог вероятности')\n",
    "plt.ylabel('Конверсия (%)')\n",
    "plt.grid(True)\n",
    "\n",
    "plt.tight_layout()\n",
    "plt.savefig('simulation_results.png')\n",
    "\n",
    "print(\"\\nАнализ завершен. Результаты сохранены в simulation_results.png\")"
   ],
   "id": "8691b81f9404192a",
   "outputs": [
    {
     "name": "stdout",
     "output_type": "stream",
     "text": [
      "\n",
      "Анализ завершен. Результаты сохранены в simulation_results.png\n"
     ]
    },
    {
     "data": {
      "text/plain": [
       "<Figure size 1200x800 with 4 Axes>"
      ],
      "image/png": "[encoded data removed]"
     },
     "metadata": {},
     "output_type": "display_data"
    }
   ],
   "execution_count": 18
  },
  {
   "metadata": {
    "ExecuteTime": {
     "end_time": "2025-04-25T23:08:26.854498Z",
     "start_time": "2025-04-25T23:08:26.840970Z"
    }
   },
   "cell_type": "code",
   "source": [
    "# ================ 9. СОХРАНЕНИЕ МОДЕЛИ И СТРАТЕГИИ ================\n",
    "import pickle\n",
    "with open('campaign_model.pkl', 'wb') as f:\n",
    "    pickle.dump({\n",
    "        'model': model,\n",
    "        'optimal_threshold': best_threshold,\n",
    "        'freq_cap_days': 14\n",
    "    }, f)\n",
    "\n",
    "print(\"Модель и стратегия сохранены в campaign_model.pkl\")"
   ],
   "id": "d385fe99e11384d6",
   "outputs": [
    {
     "name": "stdout",
     "output_type": "stream",
     "text": [
      "Модель и стратегия сохранены в campaign_model.pkl\n"
     ]
    }
   ],
   "execution_count": 19
  },
  {
   "metadata": {},
   "cell_type": "code",
   "outputs": [],
   "execution_count": null,
   "source": "",
   "id": "70c4fdb0e3a90155"
  }
 ],
 "metadata": {
  "kernelspec": {
   "display_name": "Python 3",
   "language": "python",
   "name": "python3"
  },
  "language_info": {
   "codemirror_mode": {
    "name": "ipython",
    "version": 2
   },
   "file_extension": ".py",
   "mimetype": "text/x-python",
   "name": "python",
   "nbconvert_exporter": "python",
   "pygments_lexer": "ipython2",
   "version": "2.7.6"
  }
 },
 "nbformat": 4,
 "nbformat_minor": 5
}
