{
 "cells": [
  {
   "cell_type": "code",
   "id": "initial_id",
   "metadata": {
    "collapsed": true,
    "ExecuteTime": {
     "end_time": "2025-04-27T16:28:56.933156Z",
     "start_time": "2025-04-27T16:28:55.480074Z"
    }
   },
   "source": [
    "import pandas as pd\n",
    "import numpy as np\n",
    "from tqdm.auto import tqdm\n",
    "from sklearn.model_selection import train_test_split\n",
    "from xgboost import XGBClassifier\n",
    "from sklearn.metrics import roc_auc_score, precision_recall_curve, auc\n",
    "from sklearn.calibration import CalibratedClassifierCV\n",
    "import matplotlib.pyplot as plt\n",
    "from collections import defaultdict"
   ],
   "outputs": [
    {
     "name": "stderr",
     "output_type": "stream",
     "text": [
      "S:\\anaconda3\\envs\\hh_casualml_test\\lib\\site-packages\\scipy\\__init__.py:146: UserWarning: A NumPy version >=1.16.5 and <1.23.0 is required for this version of SciPy (detected version 1.24.4\n",
      "  warnings.warn(f\"A NumPy version >={np_minversion} and <{np_maxversion}\"\n"
     ]
    }
   ],
   "execution_count": 1
  },
  {
   "metadata": {
    "ExecuteTime": {
     "end_time": "2025-04-27T16:29:19.183222Z",
     "start_time": "2025-04-27T16:28:56.946186Z"
    }
   },
   "cell_type": "code",
   "source": [
    "# ================ 1. ЗАГРУЗКА ДАННЫХ ================\n",
    "print(\"Загрузка данных...\")\n",
    "triggers = pd.read_csv('triggers.csv', parse_dates=['date'])\n",
    "actions = pd.read_csv('actions.csv', parse_dates=['date'])\n",
    "\n",
    "# Определяем max_date для окон\n",
    "max_date = max(triggers['date'].max(), actions['date'].max())"
   ],
   "id": "6e12466cbaa778de",
   "outputs": [
    {
     "name": "stdout",
     "output_type": "stream",
     "text": [
      "Загрузка данных...\n"
     ]
    }
   ],
   "execution_count": 2
  },
  {
   "metadata": {
    "ExecuteTime": {
     "end_time": "2025-04-27T16:31:19.571911Z",
     "start_time": "2025-04-27T16:29:19.468747Z"
    }
   },
   "cell_type": "code",
   "source": [
    "# ================ 2. ПОДГОТОВКА ПРИЗНАКОВ ================\n",
    "print(\"Подготовка признаков...\")\n",
    "\n",
    "def aggregate_features(df, by, date_col, windows, col, max_date):\n",
    "    \"\"\"Агрегация признаков по временным окнам\"\"\"\n",
    "    chunks = []\n",
    "    for w in tqdm(windows, desc=f'agg {col} windows'):\n",
    "        start = max_date - pd.Timedelta(days=w)\n",
    "        df_w = df[df[date_col] >= start]\n",
    "        agg = (\n",
    "            df_w\n",
    "            .groupby(by)[col]\n",
    "            .agg(count='count', unique='nunique')\n",
    "            .rename(columns={\n",
    "                'count': f'count_{w}d',\n",
    "                'unique': f'unique_{w}d'\n",
    "            })\n",
    "        )\n",
    "        chunks.append(agg)\n",
    "    return pd.concat(chunks, axis=1).fillna(0)\n",
    "\n",
    "# Строим фичи из triggers\n",
    "windows = [3, 7, 14, 30, 60]  # Добавлены окна 3 и 60 дней\n",
    "f_tr = aggregate_features(triggers, 'guid', 'date', windows, 'trigger', max_date)\n",
    "f_ty = aggregate_features(triggers, 'guid', 'date', windows, 'type', max_date)\n",
    "\n",
    "# Добавляем префиксы\n",
    "f_tr = f_tr.add_prefix('tr_')\n",
    "f_ty = f_ty.add_prefix('ty_')\n",
    "\n",
    "# Агрегация признаков из actions\n",
    "act_agg = (\n",
    "    actions\n",
    "    .groupby('guid')\n",
    "    .agg(\n",
    "        shows_count=('date', 'count'),\n",
    "        positive_shows=('result', 'sum'),\n",
    "        last_show=('date', 'max')\n",
    "    )\n",
    ")\n",
    "act_agg['days_since_last_show'] = (\n",
    "        max_date - act_agg['last_show']\n",
    ").dt.days.fillna(999)\n",
    "\n",
    "# Объединяем все признаки\n",
    "features = (\n",
    "    f_tr\n",
    "    .join(f_ty, how='outer')\n",
    "    .join(act_agg, how='outer')\n",
    "    .fillna({\n",
    "        'shows_count': 0,\n",
    "        'positive_shows': 0,\n",
    "        'days_since_last_show': 999\n",
    "    })\n",
    ")\n",
    "features['user_ctr'] = (\n",
    "        features['positive_shows'] / features['shows_count'].replace(0, 1)\n",
    ")\n",
    "\n",
    "# Добавляем recency из triggers\n",
    "last_visit = triggers.groupby('guid')['date'].max()\n",
    "features['days_since_last_visit'] = (\n",
    "        max_date - last_visit\n",
    ").dt.days.fillna(999)\n",
    "\n",
    "# Добавляем временные фичи\n",
    "features['last_visit_weekday'] = last_visit.dt.weekday\n",
    "features['last_visit_hour'] = last_visit.dt.hour\n",
    "features['last_visit_month'] = last_visit.dt.month\n",
    "\n",
    "# Добавляем взаимодействия между признаками\n",
    "for w in windows:\n",
    "    features[f'tr_ty_ratio_{w}d'] = features[f'tr_count_{w}d'] / features[f'ty_count_{w}d'].replace(0, 1)\n",
    "    features[f'tr_unique_ratio_{w}d'] = features[f'tr_unique_{w}d'] / features[f'tr_count_{w}d'].replace(0, 1)\n",
    "\n",
    "# Добавляем скоростные признаки (изменение активности)\n",
    "for w1, w2 in [(3, 7), (7, 14), (14, 30), (30, 60)]:\n",
    "    features[f'tr_speed_{w1}_{w2}d'] = features[f'tr_count_{w1}d'] / features[f'tr_count_{w2}d'].replace(0, 1)\n",
    "    features[f'ty_speed_{w1}_{w2}d'] = features[f'ty_count_{w1}d'] / features[f'ty_count_{w2}d'].replace(0, 1)\n",
    "\n",
    "# Сохраняем признаки\n",
    "features.reset_index().to_csv('features_enhanced.csv', index=False)\n",
    "print(f\"Признаки сохранены, размер: {features.shape}\")"
   ],
   "id": "c7d111bf0fc84b32",
   "outputs": [
    {
     "name": "stdout",
     "output_type": "stream",
     "text": [
      "Подготовка признаков...\n"
     ]
    },
    {
     "data": {
      "text/plain": [
       "agg trigger windows:   0%|          | 0/5 [00:00<?, ?it/s]"
      ],
      "application/vnd.jupyter.widget-view+json": {
       "version_major": 2,
       "version_minor": 0,
       "model_id": "3ce8ae84c31d4cd383240df0d8ac5039"
      }
     },
     "metadata": {},
     "output_type": "display_data"
    },
    {
     "data": {
      "text/plain": [
       "agg type windows:   0%|          | 0/5 [00:00<?, ?it/s]"
      ],
      "application/vnd.jupyter.widget-view+json": {
       "version_major": 2,
       "version_minor": 0,
       "model_id": "eb059a076833420f842ad06b1b2a3260"
      }
     },
     "metadata": {},
     "output_type": "display_data"
    },
    {
     "name": "stdout",
     "output_type": "stream",
     "text": [
      "Признаки сохранены, размер: (1020845, 47)\n"
     ]
    }
   ],
   "execution_count": 3
  },
  {
   "metadata": {
    "ExecuteTime": {
     "end_time": "2025-04-27T16:31:24.106240Z",
     "start_time": "2025-04-27T16:31:19.617487Z"
    }
   },
   "cell_type": "code",
   "source": [
    "# ================ 3. ПОДГОТОВКА ДАННЫХ ДЛЯ ОБУЧЕНИЯ ================\n",
    "print(\"Подготовка данных для обучения...\")\n",
    "\n",
    "# Разделим данные на две группы по времени (не случайно!)\n",
    "# Берем первые 80% дней для обучения, последние 20% для тестирования\n",
    "print(\"Разделение данных по времени...\")\n",
    "all_dates = sorted(actions['date'].unique())\n",
    "split_idx = int(len(all_dates) * 0.8)\n",
    "train_dates = all_dates[:split_idx]\n",
    "test_dates = all_dates[split_idx:]\n",
    "\n",
    "# Добавляем информацию о дне недели/часе/месяце в actions\n",
    "actions['weekday'] = actions['date'].dt.weekday\n",
    "actions['hour'] = actions['date'].dt.hour\n",
    "actions['month'] = actions['date'].dt.month\n",
    "\n",
    "# Формируем выборки с учетом временного разделения\n",
    "train_actions = actions[actions['date'].isin(train_dates)]\n",
    "test_actions = actions[actions['date'].isin(test_dates)]\n",
    "\n",
    "# Соединяем признаки с метками\n",
    "feat = pd.read_csv('features_enhanced.csv')\n",
    "\n",
    "# Определяем признаки, которые будем использовать\n",
    "# (исключаем признаки, которые могут быть недоступны в реальном времени)\n",
    "available_features = [col for col in feat.columns if col not in [\n",
    "    'guid', 'last_show', 'shows_count', 'positive_shows',\n",
    "    'days_since_last_show', 'user_ctr'\n",
    "]]\n",
    "\n",
    "# Создаем тренировочную и тестовую выборки\n",
    "train_df = feat.merge(train_actions[['guid', 'date', 'result', 'weekday', 'hour', 'month']], on='guid')\n",
    "test_df = feat.merge(test_actions[['guid', 'date', 'result', 'weekday', 'hour', 'month']], on='guid')\n",
    "\n",
    "# Проверяем, что в тестовых данных нет информации из обучающей выборки\n",
    "test_df = test_df.drop(columns=[\n",
    "    'shows_count', 'positive_shows', 'user_ctr', 'days_since_last_show'\n",
    "])\n",
    "\n",
    "# Готовим X и y\n",
    "X_train = train_df[available_features]\n",
    "y_train = train_df['result']\n",
    "X_test = test_df[available_features]\n",
    "y_test = test_df['result']\n",
    "\n",
    "print(f\"Распределение классов в обучающей выборке:\")\n",
    "print(y_train.value_counts(normalize=True))"
   ],
   "id": "3c88c578bb6f0961",
   "outputs": [
    {
     "name": "stdout",
     "output_type": "stream",
     "text": [
      "Подготовка данных для обучения...\n",
      "Разделение данных по времени...\n",
      "Распределение классов в обучающей выборке:\n",
      "result\n",
      "0    0.970426\n",
      "1    0.029574\n",
      "Name: proportion, dtype: float64\n"
     ]
    }
   ],
   "execution_count": 4
  },
  {
   "metadata": {
    "ExecuteTime": {
     "end_time": "2025-04-27T16:33:06.354668Z",
     "start_time": "2025-04-27T16:33:06.226828Z"
    }
   },
   "cell_type": "code",
   "source": [
    "# ================ 4. РЕШЕНИЕ ПРОБЛЕМЫ ДИСБАЛАНСА И ОБУЧЕНИЕ МОДЕЛИ ================\n",
    "print(\"Решение проблемы дисбаланса классов и обучение модели...\")\n",
    "\n",
    "# # Применяем комбинированный resampling (SMOTE + Tomek Links)\n",
    "# smote_tomek = SMOTETomek(random_state=42)\n",
    "# X_resampled, y_resampled = smote_tomek.fit_resample(X_train, y_train)\n",
    "# print(f\"Размер ресэмплированной выборки: {X_resampled.shape}\")\n",
    "# print(f\"Распределение классов после ресэмплинга:\")\n",
    "# print(pd.Series(y_resampled).value_counts(normalize=True))\n",
    "\n",
    "# Параметры для балансировки классов\n",
    "ratio = (y_train == 0).sum() / (y_train == 1).sum()\n",
    "\n",
    "# Создаем разбиение для валидации\n",
    "X_train_split, X_val, y_train_split, y_val = train_test_split(\n",
    "    X_train, y_train, test_size=0.2, random_state=42, stratify=y_train\n",
    ")"
   ],
   "id": "b4ed150044c6b993",
   "outputs": [
    {
     "name": "stdout",
     "output_type": "stream",
     "text": [
      "Решение проблемы дисбаланса классов и обучение модели...\n"
     ]
    }
   ],
   "execution_count": 27
  },
  {
   "metadata": {
    "ExecuteTime": {
     "end_time": "2025-04-27T16:33:08.505146Z",
     "start_time": "2025-04-27T16:33:06.955383Z"
    }
   },
   "cell_type": "code",
   "source": [
    "# Обучение модели с валидацией для предотвращения переобучения\n",
    "print(\"Обучение XGBoost...\")\n",
    "model = XGBClassifier(\n",
    "    eval_metric='aucpr',  # AUC PR curve вместо logloss\n",
    "    scale_pos_weight=0.2,   # Т.к. мы уже сбалансировали выборку\n",
    "    n_estimators=100,\n",
    "    max_depth=7,\n",
    "    learning_rate=0.03,\n",
    "    subsample=0.8,\n",
    "    colsample_bytree=0.8,\n",
    "    min_child_weight=2,\n",
    "    gamma=0.1,\n",
    "    reg_alpha=0.2,\n",
    "    reg_lambda=2,\n",
    "    early_stopping_rounds=100\n",
    ")\n",
    "model.fit(\n",
    "    X_train_split, y_train_split,\n",
    "    eval_set=[(X_val, y_val)],\n",
    "    verbose=100\n",
    ")\n",
    "\n",
    "# Калибровка вероятностей для получения более реалистичных прогнозов\n",
    "print(\"Калибровка вероятностей...\")\n",
    "calibrated_model = CalibratedClassifierCV(\n",
    "    model,\n",
    "    method='isotonic',\n",
    "    cv='prefit'\n",
    ")\n",
    "calibrated_model.fit(X_val, y_val)"
   ],
   "id": "ce01185085b47166",
   "outputs": [
    {
     "name": "stdout",
     "output_type": "stream",
     "text": [
      "Обучение XGBoost...\n",
      "[0]\tvalidation_0-aucpr:0.05251\n",
      "[99]\tvalidation_0-aucpr:0.07773\n",
      "Калибровка вероятностей...\n"
     ]
    },
    {
     "data": {
      "text/plain": [
       "CalibratedClassifierCV(cv='prefit',\n",
       "                       estimator=XGBClassifier(base_score=None, booster=None,\n",
       "                                               callbacks=None,\n",
       "                                               colsample_bylevel=None,\n",
       "                                               colsample_bynode=None,\n",
       "                                               colsample_bytree=0.8,\n",
       "                                               device=None,\n",
       "                                               early_stopping_rounds=100,\n",
       "                                               enable_categorical=False,\n",
       "                                               eval_metric='aucpr',\n",
       "                                               feature_types=None, gamma=0.1,\n",
       "                                               grow_policy=None,\n",
       "                                               importance_type=None,\n",
       "                                               interaction_constraints=None,\n",
       "                                               learning_rate=0.03, max_bin=None,\n",
       "                                               max_cat_threshold=None,\n",
       "                                               max_cat_to_onehot=None,\n",
       "                                               max_delta_step=None, max_depth=7,\n",
       "                                               max_leaves=None,\n",
       "                                               min_child_weight=2, missing=nan,\n",
       "                                               monotone_constraints=None,\n",
       "                                               multi_strategy=None,\n",
       "                                               n_estimators=100, n_jobs=None,\n",
       "                                               num_parallel_tree=None,\n",
       "                                               random_state=None, ...),\n",
       "                       method='isotonic')"
      ],
      "text/html": [
       "<style>#sk-container-id-6 {color: black;}#sk-container-id-6 pre{padding: 0;}#sk-container-id-6 div.sk-toggleable {background-color: white;}#sk-container-id-6 label.sk-toggleable__label {cursor: pointer;display: block;width: 100%;margin-bottom: 0;padding: 0.3em;box-sizing: border-box;text-align: center;}#sk-container-id-6 label.sk-toggleable__label-arrow:before {content: \"▸\";float: left;margin-right: 0.25em;color: #696969;}#sk-container-id-6 label.sk-toggleable__label-arrow:hover:before {color: black;}#sk-container-id-6 div.sk-estimator:hover label.sk-toggleable__label-arrow:before {color: black;}#sk-container-id-6 div.sk-toggleable__content {max-height: 0;max-width: 0;overflow: hidden;text-align: left;background-color: #f0f8ff;}#sk-container-id-6 div.sk-toggleable__content pre {margin: 0.2em;color: black;border-radius: 0.25em;background-color: #f0f8ff;}#sk-container-id-6 input.sk-toggleable__control:checked~div.sk-toggleable__content {max-height: 200px;max-width: 100%;overflow: auto;}#sk-container-id-6 input.sk-toggleable__control:checked~label.sk-toggleable__label-arrow:before {content: \"▾\";}#sk-container-id-6 div.sk-estimator input.sk-toggleable__control:checked~label.sk-toggleable__label {background-color: #d4ebff;}#sk-container-id-6 div.sk-label input.sk-toggleable__control:checked~label.sk-toggleable__label {background-color: #d4ebff;}#sk-container-id-6 input.sk-hidden--visually {border: 0;clip: rect(1px 1px 1px 1px);clip: rect(1px, 1px, 1px, 1px);height: 1px;margin: -1px;overflow: hidden;padding: 0;position: absolute;width: 1px;}#sk-container-id-6 div.sk-estimator {font-family: monospace;background-color: #f0f8ff;border: 1px dotted black;border-radius: 0.25em;box-sizing: border-box;margin-bottom: 0.5em;}#sk-container-id-6 div.sk-estimator:hover {background-color: #d4ebff;}#sk-container-id-6 div.sk-parallel-item::after {content: \"\";width: 100%;border-bottom: 1px solid gray;flex-grow: 1;}#sk-container-id-6 div.sk-label:hover label.sk-toggleable__label {background-color: #d4ebff;}#sk-container-id-6 div.sk-serial::before {content: \"\";position: absolute;border-left: 1px solid gray;box-sizing: border-box;top: 0;bottom: 0;left: 50%;z-index: 0;}#sk-container-id-6 div.sk-serial {display: flex;flex-direction: column;align-items: center;background-color: white;padding-right: 0.2em;padding-left: 0.2em;position: relative;}#sk-container-id-6 div.sk-item {position: relative;z-index: 1;}#sk-container-id-6 div.sk-parallel {display: flex;align-items: stretch;justify-content: center;background-color: white;position: relative;}#sk-container-id-6 div.sk-item::before, #sk-container-id-6 div.sk-parallel-item::before {content: \"\";position: absolute;border-left: 1px solid gray;box-sizing: border-box;top: 0;bottom: 0;left: 50%;z-index: -1;}#sk-container-id-6 div.sk-parallel-item {display: flex;flex-direction: column;z-index: 1;position: relative;background-color: white;}#sk-container-id-6 div.sk-parallel-item:first-child::after {align-self: flex-end;width: 50%;}#sk-container-id-6 div.sk-parallel-item:last-child::after {align-self: flex-start;width: 50%;}#sk-container-id-6 div.sk-parallel-item:only-child::after {width: 0;}#sk-container-id-6 div.sk-dashed-wrapped {border: 1px dashed gray;margin: 0 0.4em 0.5em 0.4em;box-sizing: border-box;padding-bottom: 0.4em;background-color: white;}#sk-container-id-6 div.sk-label label {font-family: monospace;font-weight: bold;display: inline-block;line-height: 1.2em;}#sk-container-id-6 div.sk-label-container {text-align: center;}#sk-container-id-6 div.sk-container {/* jupyter's `normalize.less` sets `[hidden] { display: none; }` but bootstrap.min.css set `[hidden] { display: none !important; }` so we also need the `!important` here to be able to override the default hidden behavior on the sphinx rendered scikit-learn.org. See: https://github.com/scikit-learn/scikit-learn/issues/21755 */display: inline-block !important;position: relative;}#sk-container-id-6 div.sk-text-repr-fallback {display: none;}</style><div id=\"sk-container-id-6\" class=\"sk-top-container\"><div class=\"sk-text-repr-fallback\"><pre>CalibratedClassifierCV(cv=&#x27;prefit&#x27;,\n",
       "                       estimator=XGBClassifier(base_score=None, booster=None,\n",
       "                                               callbacks=None,\n",
       "                                               colsample_bylevel=None,\n",
       "                                               colsample_bynode=None,\n",
       "                                               colsample_bytree=0.8,\n",
       "                                               device=None,\n",
       "                                               early_stopping_rounds=100,\n",
       "                                               enable_categorical=False,\n",
       "                                               eval_metric=&#x27;aucpr&#x27;,\n",
       "                                               feature_types=None, gamma=0.1,\n",
       "                                               grow_policy=None,\n",
       "                                               importance_type=None,\n",
       "                                               interaction_constraints=None,\n",
       "                                               learning_rate=0.03, max_bin=None,\n",
       "                                               max_cat_threshold=None,\n",
       "                                               max_cat_to_onehot=None,\n",
       "                                               max_delta_step=None, max_depth=7,\n",
       "                                               max_leaves=None,\n",
       "                                               min_child_weight=2, missing=nan,\n",
       "                                               monotone_constraints=None,\n",
       "                                               multi_strategy=None,\n",
       "                                               n_estimators=100, n_jobs=None,\n",
       "                                               num_parallel_tree=None,\n",
       "                                               random_state=None, ...),\n",
       "                       method=&#x27;isotonic&#x27;)</pre><b>In a Jupyter environment, please rerun this cell to show the HTML representation or trust the notebook. <br />On GitHub, the HTML representation is unable to render, please try loading this page with nbviewer.org.</b></div><div class=\"sk-container\" hidden><div class=\"sk-item sk-dashed-wrapped\"><div class=\"sk-label-container\"><div class=\"sk-label sk-toggleable\"><input class=\"sk-toggleable__control sk-hidden--visually\" id=\"sk-estimator-id-16\" type=\"checkbox\" ><label for=\"sk-estimator-id-16\" class=\"sk-toggleable__label sk-toggleable__label-arrow\">CalibratedClassifierCV</label><div class=\"sk-toggleable__content\"><pre>CalibratedClassifierCV(cv=&#x27;prefit&#x27;,\n",
       "                       estimator=XGBClassifier(base_score=None, booster=None,\n",
       "                                               callbacks=None,\n",
       "                                               colsample_bylevel=None,\n",
       "                                               colsample_bynode=None,\n",
       "                                               colsample_bytree=0.8,\n",
       "                                               device=None,\n",
       "                                               early_stopping_rounds=100,\n",
       "                                               enable_categorical=False,\n",
       "                                               eval_metric=&#x27;aucpr&#x27;,\n",
       "                                               feature_types=None, gamma=0.1,\n",
       "                                               grow_policy=None,\n",
       "                                               importance_type=None,\n",
       "                                               interaction_constraints=None,\n",
       "                                               learning_rate=0.03, max_bin=None,\n",
       "                                               max_cat_threshold=None,\n",
       "                                               max_cat_to_onehot=None,\n",
       "                                               max_delta_step=None, max_depth=7,\n",
       "                                               max_leaves=None,\n",
       "                                               min_child_weight=2, missing=nan,\n",
       "                                               monotone_constraints=None,\n",
       "                                               multi_strategy=None,\n",
       "                                               n_estimators=100, n_jobs=None,\n",
       "                                               num_parallel_tree=None,\n",
       "                                               random_state=None, ...),\n",
       "                       method=&#x27;isotonic&#x27;)</pre></div></div></div><div class=\"sk-parallel\"><div class=\"sk-parallel-item\"><div class=\"sk-item\"><div class=\"sk-label-container\"><div class=\"sk-label sk-toggleable\"><input class=\"sk-toggleable__control sk-hidden--visually\" id=\"sk-estimator-id-17\" type=\"checkbox\" ><label for=\"sk-estimator-id-17\" class=\"sk-toggleable__label sk-toggleable__label-arrow\">estimator: XGBClassifier</label><div class=\"sk-toggleable__content\"><pre>XGBClassifier(base_score=None, booster=None, callbacks=None,\n",
       "              colsample_bylevel=None, colsample_bynode=None,\n",
       "              colsample_bytree=0.8, device=None, early_stopping_rounds=100,\n",
       "              enable_categorical=False, eval_metric=&#x27;aucpr&#x27;, feature_types=None,\n",
       "              gamma=0.1, grow_policy=None, importance_type=None,\n",
       "              interaction_constraints=None, learning_rate=0.03, max_bin=None,\n",
       "              max_cat_threshold=None, max_cat_to_onehot=None,\n",
       "              max_delta_step=None, max_depth=7, max_leaves=None,\n",
       "              min_child_weight=2, missing=nan, monotone_constraints=None,\n",
       "              multi_strategy=None, n_estimators=100, n_jobs=None,\n",
       "              num_parallel_tree=None, random_state=None, ...)</pre></div></div></div><div class=\"sk-serial\"><div class=\"sk-item\"><div class=\"sk-estimator sk-toggleable\"><input class=\"sk-toggleable__control sk-hidden--visually\" id=\"sk-estimator-id-18\" type=\"checkbox\" ><label for=\"sk-estimator-id-18\" class=\"sk-toggleable__label sk-toggleable__label-arrow\">XGBClassifier</label><div class=\"sk-toggleable__content\"><pre>XGBClassifier(base_score=None, booster=None, callbacks=None,\n",
       "              colsample_bylevel=None, colsample_bynode=None,\n",
       "              colsample_bytree=0.8, device=None, early_stopping_rounds=100,\n",
       "              enable_categorical=False, eval_metric=&#x27;aucpr&#x27;, feature_types=None,\n",
       "              gamma=0.1, grow_policy=None, importance_type=None,\n",
       "              interaction_constraints=None, learning_rate=0.03, max_bin=None,\n",
       "              max_cat_threshold=None, max_cat_to_onehot=None,\n",
       "              max_delta_step=None, max_depth=7, max_leaves=None,\n",
       "              min_child_weight=2, missing=nan, monotone_constraints=None,\n",
       "              multi_strategy=None, n_estimators=100, n_jobs=None,\n",
       "              num_parallel_tree=None, random_state=None, ...)</pre></div></div></div></div></div></div></div></div></div></div>"
      ]
     },
     "execution_count": 28,
     "metadata": {},
     "output_type": "execute_result"
    }
   ],
   "execution_count": 28
  },
  {
   "metadata": {
    "ExecuteTime": {
     "end_time": "2025-04-27T16:33:08.929959Z",
     "start_time": "2025-04-27T16:33:08.517662Z"
    }
   },
   "cell_type": "code",
   "source": [
    "# ================ 5. ОЦЕНКА МОДЕЛИ ================\n",
    "print(\"Оценка модели...\")\n",
    "\n",
    "# Предсказания на тестовой выборке\n",
    "y_proba = calibrated_model.predict_proba(X_test)[:, 1]\n",
    "roc = roc_auc_score(y_test, y_proba)\n",
    "precision, recall, thresholds = precision_recall_curve(y_test, y_proba)\n",
    "pr_auc = auc(recall, precision)\n",
    "\n",
    "print(f\"ROC-AUC на тестовой выборке: {roc:.4f}\")\n",
    "print(f\"PR-AUC на тестовой выборке: {pr_auc:.4f}\")\n",
    "\n",
    "# Анализ важности признаков\n",
    "feature_importance = pd.DataFrame({\n",
    "    'Feature': available_features,\n",
    "    'Importance': model.feature_importances_\n",
    "}).sort_values('Importance', ascending=False).head(20)\n",
    "\n",
    "plt.figure(figsize=(10, 6))\n",
    "plt.barh(feature_importance['Feature'], feature_importance['Importance'])\n",
    "plt.title('Top 20 важных признаков')\n",
    "plt.tight_layout()\n",
    "plt.savefig('feature_importance.png')"
   ],
   "id": "c465f1be965c8cf6",
   "outputs": [
    {
     "name": "stdout",
     "output_type": "stream",
     "text": [
      "Оценка модели...\n",
      "ROC-AUC на тестовой выборке: 0.6829\n",
      "PR-AUC на тестовой выборке: 0.0772\n"
     ]
    },
    {
     "data": {
      "text/plain": [
       "<Figure size 1000x600 with 1 Axes>"
      ],
      "image/png": "[encoded data removed]"
     },
     "metadata": {},
     "output_type": "display_data"
    }
   ],
   "execution_count": 29
  },
  {
   "metadata": {},
   "cell_type": "markdown",
   "source": "",
   "id": "562ed91774ba2798"
  },
  {
   "metadata": {
    "ExecuteTime": {
     "end_time": "2025-04-27T16:33:15.858914Z",
     "start_time": "2025-04-27T16:33:09.957486Z"
    }
   },
   "cell_type": "code",
   "source": [
    "# ================ 6. СИМУЛЯЦИЯ КАМПАНИИ С РЕАЛЬНЫМИ ДАННЫМИ ================\n",
    "print(\"Симуляция кампании с реальными данными...\")\n",
    "\n",
    "def business_metric(y_true, y_pred, threshold=0.2):\n",
    "    \"\"\"Оценка модели по финансовым показателям\"\"\"\n",
    "    pred = (y_pred >= threshold).astype(int)\n",
    "    tp = sum((pred == 1) & (y_true == 1))  # успешные конверсии\n",
    "    fp = sum((pred == 1) & (y_true == 0))  # неуспешные показы\n",
    "\n",
    "    shows = tp + fp\n",
    "    conversions = tp\n",
    "\n",
    "    revenue = conversions * 5  # $5 за конверсию\n",
    "    cost = shows  # $1 за показ\n",
    "    balance = revenue - cost\n",
    "    turnover = revenue + cost\n",
    "\n",
    "    return {\n",
    "        'shows': shows,\n",
    "        'conversions': conversions,\n",
    "        'revenue': revenue,\n",
    "        'cost': cost,\n",
    "        'balance': balance,\n",
    "        'turnover': turnover,\n",
    "        'conversion_rate': conversions/shows if shows > 0 else 0\n",
    "    }\n",
    "\n",
    "def simulate_campaign_with_real_data(thresholds, model, freq_days=14):\n",
    "    \"\"\"\n",
    "    Оптимизированная симуляция кампании с использованием реальных данных конверсии\n",
    "    с учетом сегментации пользователей\n",
    "    \"\"\"\n",
    "    results = []\n",
    "\n",
    "    # 1. Предварительный расчет вероятностей для всех пользователей\n",
    "    print(\"Расчет вероятностей для всех пользователей...\")\n",
    "    unique_users = test_df.drop_duplicates('guid')\n",
    "    print(f\"Количество уникальных пользователей: {len(unique_users)}\")\n",
    "    X_pred = unique_users[available_features]\n",
    "    with tqdm(total=1, desc=\"Batch prediction\") as pbar:\n",
    "        probas = model.predict_proba(X_pred)[:, 1]\n",
    "        pbar.update(1)\n",
    "\n",
    "    # 2. Сегментируем пользователей на 3 группы по активности\n",
    "    unique_users['probability'] = probas\n",
    "    # Используем количество посещений за 30 дней как меру активности\n",
    "    if 'tr_count_30d' in unique_users.columns:\n",
    "        unique_users['activity_segment'] = pd.qcut(\n",
    "            unique_users['tr_count_30d'],\n",
    "            q=3,\n",
    "            labels=['low', 'medium', 'high']\n",
    "        ).fillna('low')\n",
    "    else:\n",
    "        unique_users['activity_segment'] = 'medium'  # Если признак отсутствует\n",
    "\n",
    "    guid_to_info = dict(zip(\n",
    "        unique_users['guid'],\n",
    "        zip(unique_users['probability'], unique_users['activity_segment'])\n",
    "    ))\n",
    "\n",
    "    # 3. Подготовка данных о посещениях и конверсиях\n",
    "    print(\"Подготовка данных о посещениях и конверсиях...\")\n",
    "    guid_results = defaultdict(list)\n",
    "    for _, row in test_actions.iterrows():\n",
    "        guid = row['guid']\n",
    "        if guid in guid_to_info:\n",
    "            guid_results[guid].append((row['date'], row['result']))\n",
    "\n",
    "    # 4. Формирование полного списка событий\n",
    "    print(\"Формирование полного списка событий...\")\n",
    "    all_events = []\n",
    "    for guid, events in guid_results.items():\n",
    "        prob, segment = guid_to_info[guid]\n",
    "        for date, result in events:\n",
    "            all_events.append((date, guid, result, prob, segment))\n",
    "    all_events.sort()\n",
    "\n",
    "    # 5. Запуск симуляции для каждого базового порога\n",
    "    for base_threshold in tqdm(thresholds, desc=\"Симуляция для порогов\"):\n",
    "        # Адаптируем пороги для разных сегментов\n",
    "        segment_thresholds = {\n",
    "            'low': base_threshold * 1.2,     # Более высокий порог для неактивных\n",
    "            'medium': base_threshold,         # Базовый порог для средних\n",
    "            'high': base_threshold * 0.8      # Более низкий порог для активных\n",
    "        }\n",
    "\n",
    "        # Предварительно фильтруем события по адаптивным порогам\n",
    "        filtered_events = []\n",
    "        for date, guid, result, prob, segment in all_events:\n",
    "            segment_threshold = segment_thresholds[segment]\n",
    "            if prob >= segment_threshold:\n",
    "                filtered_events.append((date, guid, result, segment))\n",
    "\n",
    "        # Симуляция показов с учетом частотного ограничения\n",
    "        total_shows = 0\n",
    "        total_conversions = 0\n",
    "        last_shown = {}\n",
    "        segment_stats = {segment: {'shows': 0, 'conversions': 0} for segment in ['low', 'medium', 'high']}\n",
    "\n",
    "        for date, guid, result, segment in filtered_events:\n",
    "            if guid in last_shown:\n",
    "                days_since_last = (date - last_shown[guid]).days\n",
    "                if days_since_last < freq_days:\n",
    "                    continue\n",
    "\n",
    "            total_shows += 1\n",
    "            last_shown[guid] = date\n",
    "            segment_stats[segment]['shows'] += 1\n",
    "\n",
    "            if result == 1:\n",
    "                total_conversions += 1\n",
    "                segment_stats[segment]['conversions'] += 1\n",
    "\n",
    "        # Расчет экономических метрик\n",
    "        spend = total_shows\n",
    "        revenue = total_conversions * 5\n",
    "        balance = revenue - spend\n",
    "        turnover = revenue + spend\n",
    "\n",
    "        # Сохраняем результаты\n",
    "        results.append({\n",
    "            'base_threshold': base_threshold,\n",
    "            'shows': total_shows,\n",
    "            'conversions': total_conversions,\n",
    "            'spend': spend,\n",
    "            'revenue': revenue,\n",
    "            'balance': balance,\n",
    "            'turnover': turnover,\n",
    "            'conv_rate': total_conversions / total_shows if total_shows > 0 else 0,\n",
    "            'low_conv_rate': segment_stats['low']['conversions'] / segment_stats['low']['shows']\n",
    "            if segment_stats['low']['shows'] > 0 else 0,\n",
    "            'medium_conv_rate': segment_stats['medium']['conversions'] / segment_stats['medium']['shows']\n",
    "            if segment_stats['medium']['shows'] > 0 else 0,\n",
    "            'high_conv_rate': segment_stats['high']['conversions'] / segment_stats['high']['shows']\n",
    "            if segment_stats['high']['shows'] > 0 else 0\n",
    "        })\n",
    "\n",
    "    return pd.DataFrame(results)\n",
    "\n",
    "# Генерируем список порогов для проверки\n",
    "thresholds = np.linspace(0.001, 0.95, 20)\n",
    "simulation_results = simulate_campaign_with_real_data(thresholds, calibrated_model)"
   ],
   "id": "829313f167fc26b4",
   "outputs": [
    {
     "name": "stdout",
     "output_type": "stream",
     "text": [
      "Симуляция кампании с реальными данными...\n",
      "Расчет вероятностей для всех пользователей...\n",
      "Количество уникальных пользователей: 107461\n"
     ]
    },
    {
     "data": {
      "text/plain": [
       "Batch prediction:   0%|          | 0/1 [00:00<?, ?it/s]"
      ],
      "application/vnd.jupyter.widget-view+json": {
       "version_major": 2,
       "version_minor": 0,
       "model_id": "00c95fea06a846c88f4391d7d08f0c7d"
      }
     },
     "metadata": {},
     "output_type": "display_data"
    },
    {
     "name": "stdout",
     "output_type": "stream",
     "text": [
      "Подготовка данных о посещениях и конверсиях...\n",
      "Формирование полного списка событий...\n"
     ]
    },
    {
     "data": {
      "text/plain": [
       "Симуляция для порогов:   0%|          | 0/20 [00:00<?, ?it/s]"
      ],
      "application/vnd.jupyter.widget-view+json": {
       "version_major": 2,
       "version_minor": 0,
       "model_id": "c7160a53b904499cb5ba2b7c5afdb566"
      }
     },
     "metadata": {},
     "output_type": "display_data"
    }
   ],
   "execution_count": 30
  },
  {
   "metadata": {
    "ExecuteTime": {
     "end_time": "2025-04-27T16:33:16.364955Z",
     "start_time": "2025-04-27T16:33:16.350430Z"
    }
   },
   "cell_type": "code",
   "source": [
    "# ================ 7. АНАЛИЗ РЕЗУЛЬТАТОВ ================\n",
    "print(\"Анализ результатов симуляции...\")\n",
    "\n",
    "# Отбираем только варианты с положительным балансом\n",
    "profitable = simulation_results[simulation_results['balance'] >= 0]\n",
    "\n",
    "if len(profitable) > 0:\n",
    "    # Находим порог с максимальным оборотом при положительном балансе\n",
    "    best_row = profitable.loc[profitable['turnover'].idxmax()]\n",
    "    best_threshold = best_row['base_threshold']\n",
    "\n",
    "    print(\"\\n=== ОПТИМАЛЬНЫЙ ПОРОГ ДЛЯ МАКСИМИЗАЦИИ ОБОРОТА ===\")\n",
    "    print(f\"Базовый порог вероятности: {best_threshold:.4f}\")\n",
    "    print(f\"Показы: {best_row['shows']}\")\n",
    "    print(f\"Конверсии: {best_row['conversions']}\")\n",
    "    print(f\"Расходы: ${best_row['spend']}\")\n",
    "    print(f\"Доходы: ${best_row['revenue']}\")\n",
    "    print(f\"Баланс: ${best_row['balance']}\")\n",
    "    print(f\"Оборот: ${best_row['turnover']}\")\n",
    "    print(f\"Общая конверсия: {best_row['conv_rate']:.2%}\")\n",
    "    print(f\"Конверсия по сегментам:\")\n",
    "    print(f\"  - Низкая активность: {best_row['low_conv_rate']:.2%}\")\n",
    "    print(f\"  - Средняя активность: {best_row['medium_conv_rate']:.2%}\")\n",
    "    print(f\"  - Высокая активность: {best_row['high_conv_rate']:.2%}\")\n",
    "else:\n",
    "    print(\"Не найдено вариантов с положительным балансом.\")"
   ],
   "id": "88aecd6ea6844d1b",
   "outputs": [
    {
     "name": "stdout",
     "output_type": "stream",
     "text": [
      "Анализ результатов симуляции...\n",
      "\n",
      "=== ОПТИМАЛЬНЫЙ ПОРОГ ДЛЯ МАКСИМИЗАЦИИ ОБОРОТА ===\n",
      "Базовый порог вероятности: 0.2008\n",
      "Показы: 543.0\n",
      "Конверсии: 109.0\n",
      "Расходы: $543.0\n",
      "Доходы: $545.0\n",
      "Баланс: $2.0\n",
      "Оборот: $1088.0\n",
      "Общая конверсия: 20.07%\n",
      "Конверсия по сегментам:\n",
      "  - Низкая активность: 0.00%\n",
      "  - Средняя активность: 0.00%\n",
      "  - Высокая активность: 20.07%\n"
     ]
    }
   ],
   "execution_count": 31
  }
 ],
 "metadata": {
  "kernelspec": {
   "display_name": "Python 3",
   "language": "python",
   "name": "python3"
  },
  "language_info": {
   "codemirror_mode": {
    "name": "ipython",
    "version": 2
   },
   "file_extension": ".py",
   "mimetype": "text/x-python",
   "name": "python",
   "nbconvert_exporter": "python",
   "pygments_lexer": "ipython2",
   "version": "2.7.6"
  }
 },
 "nbformat": 4,
 "nbformat_minor": 5
}
