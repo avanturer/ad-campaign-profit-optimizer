{
 "cells": [
  {
   "cell_type": "code",
   "id": "initial_id",
   "metadata": {
    "collapsed": true,
    "ExecuteTime": {
     "end_time": "2025-04-25T22:14:23.047369Z",
     "start_time": "2025-04-25T22:14:22.039743Z"
    }
   },
   "source": [
    "import pandas as pd\n",
    "from datetime import datetime\n",
    "from sklearn.model_selection import train_test_split\n",
    "from sklearn.linear_model import LogisticRegression\n",
    "from sklearn.metrics import roc_auc_score, classification_report\n",
    "import numpy as np\n",
    "from tqdm.auto import tqdm"
   ],
   "outputs": [
    {
     "name": "stderr",
     "output_type": "stream",
     "text": [
      "S:\\anaconda3\\envs\\hh_casualml_test\\lib\\site-packages\\scipy\\__init__.py:146: UserWarning: A NumPy version >=1.16.5 and <1.23.0 is required for this version of SciPy (detected version 1.24.4\n",
      "  warnings.warn(f\"A NumPy version >={np_minversion} and <{np_maxversion}\"\n"
     ]
    }
   ],
   "execution_count": 1
  },
  {
   "metadata": {
    "ExecuteTime": {
     "end_time": "2025-04-25T22:14:45.770686Z",
     "start_time": "2025-04-25T22:14:23.051372Z"
    }
   },
   "cell_type": "code",
   "source": [
    "# загружаем данные\n",
    "triggers = pd.read_csv('triggers.csv', parse_dates=['date'])\n",
    "actions = pd.read_csv('actions.csv', parse_dates=['date'])"
   ],
   "id": "fb06bb77b295adf1",
   "outputs": [],
   "execution_count": 2
  },
  {
   "metadata": {
    "ExecuteTime": {
     "end_time": "2025-04-25T22:14:48.575244Z",
     "start_time": "2025-04-25T22:14:48.511120Z"
    }
   },
   "cell_type": "code",
   "source": [
    "# 2. Определяем max_date для окон\n",
    "max_date = max(triggers['date'].max(), actions['date'].max())"
   ],
   "id": "2b134ae53bd2186e",
   "outputs": [],
   "execution_count": 3
  },
  {
   "metadata": {
    "ExecuteTime": {
     "end_time": "2025-04-25T22:16:03.500114Z",
     "start_time": "2025-04-25T22:14:49.477575Z"
    }
   },
   "cell_type": "code",
   "source": [
    "# 3. Функция агрегации признаков по временным окнам с прогресс-баром\n",
    "def aggregate_features(df, by, date_col, windows, col, max_date):\n",
    "    chunks = []\n",
    "    for w in tqdm(windows, desc=f'agg {col} windows'):\n",
    "        start = max_date - pd.Timedelta(days=w)\n",
    "        df_w = df[df[date_col] >= start]\n",
    "        agg = (\n",
    "            df_w\n",
    "            .groupby(by)[col]\n",
    "            .agg(count='count', unique='nunique')\n",
    "            .rename(columns={\n",
    "                'count': f'count_{w}d',\n",
    "                'unique': f'unique_{w}d'\n",
    "            })\n",
    "        )\n",
    "        chunks.append(agg)\n",
    "    return pd.concat(chunks, axis=1).fillna(0)\n",
    "\n",
    "\n",
    "# 4. Строим фичи из triggers\n",
    "windows = [7, 14, 30]\n",
    "f_tr = aggregate_features(triggers, 'guid', 'date', windows, 'trigger', max_date)\n",
    "f_ty = aggregate_features(triggers, 'guid', 'date', windows, 'type', max_date)\n",
    "\n",
    "# 5. Добавляем префиксы, чтобы избежать пересечений имен столбцов\n",
    "f_tr = f_tr.add_prefix('tr_')\n",
    "f_ty = f_ty.add_prefix('ty_')\n",
    "\n",
    "# 6. Агрегация признаков из actions\n",
    "act_agg = (\n",
    "    actions\n",
    "    .groupby('guid')\n",
    "    .agg(\n",
    "        shows_count=('date', 'count'),\n",
    "        positive_shows=('result', 'sum'),\n",
    "        last_show=('date', 'max')\n",
    "    )\n",
    ")\n",
    "act_agg['days_since_last_show'] = (\n",
    "        max_date - act_agg['last_show']\n",
    ").dt.days.fillna(999)\n",
    "\n",
    "# 7. Объединяем все признаки в один DataFrame\n",
    "features = (\n",
    "    f_tr\n",
    "    .join(f_ty, how='outer')\n",
    "    .join(act_agg, how='outer')\n",
    "    .fillna({\n",
    "        'shows_count': 0,\n",
    "        'positive_shows': 0,\n",
    "        'days_since_last_show': 999\n",
    "    })\n",
    ")\n",
    "features['user_ctr'] = (\n",
    "        features['positive_shows'] / features['shows_count'].replace(0, 1)\n",
    ")\n",
    "\n",
    "# 8. Добавляем recency из triggers\n",
    "last_visit = triggers.groupby('guid')['date'].max()\n",
    "features['days_since_last_visit'] = (\n",
    "        max_date - last_visit\n",
    ").dt.days.fillna(999)\n",
    "\n",
    "# 9. Сохраняем готовые фичи\n",
    "features.reset_index().to_csv('features_xgb.csv', index=False)\n",
    "print(\"features_xgb.csv успешно сохранён, размер:\", features.shape)"
   ],
   "id": "b5313fd73b96db0f",
   "outputs": [
    {
     "data": {
      "text/plain": [
       "agg trigger windows:   0%|          | 0/3 [00:00<?, ?it/s]"
      ],
      "application/vnd.jupyter.widget-view+json": {
       "version_major": 2,
       "version_minor": 0,
       "model_id": "e234aa7607544bd38bafdc9466542c58"
      }
     },
     "metadata": {},
     "output_type": "display_data"
    },
    {
     "data": {
      "text/plain": [
       "agg type windows:   0%|          | 0/3 [00:00<?, ?it/s]"
      ],
      "application/vnd.jupyter.widget-view+json": {
       "version_major": 2,
       "version_minor": 0,
       "model_id": "04fa1c47b93d48718cfb6f8e0f9bc4dc"
      }
     },
     "metadata": {},
     "output_type": "display_data"
    },
    {
     "name": "stdout",
     "output_type": "stream",
     "text": [
      "features_xgb.csv успешно сохранён, размер: (1009806, 18)\n"
     ]
    }
   ],
   "execution_count": 4
  },
  {
   "metadata": {
    "ExecuteTime": {
     "end_time": "2025-04-25T22:19:53.719268Z",
     "start_time": "2025-04-25T22:19:51.341794Z"
    }
   },
   "cell_type": "code",
   "source": [
    "import pandas as pd\n",
    "from sklearn.model_selection import train_test_split\n",
    "from xgboost import XGBClassifier\n",
    "from sklearn.metrics import roc_auc_score, classification_report\n",
    "\n",
    "# загружаем признаки и метки\n",
    "feat = pd.read_csv('features_xgb.csv')\n",
    "acts = pd.read_csv('actions.csv', parse_dates=['date'])\n",
    "df = feat.merge(acts[['guid', 'result']], on='guid').dropna(subset=['result'])"
   ],
   "id": "3dfec87b75a5ac4c",
   "outputs": [],
   "execution_count": 9
  },
  {
   "metadata": {
    "ExecuteTime": {
     "end_time": "2025-04-25T22:33:10.758979Z",
     "start_time": "2025-04-25T22:33:10.608195Z"
    }
   },
   "cell_type": "code",
   "source": [
    "# готовим X и y\n",
    "drop = ['guid', 'last_show']\n",
    "X = df.drop(columns=drop + ['result'])\n",
    "y = df['result']\n",
    "\n",
    "# split и обучение\n",
    "X_train, X_vt, y_train, y_vt = train_test_split(\n",
    "    X, y, test_size=0.2, random_state=42, stratify=y)\n",
    "\n",
    "X_test, X_val, y_test, y_val = train_test_split(\n",
    "    X_vt, y_vt, test_size=0.5, random_state=42, stratify=y_vt)"
   ],
   "id": "feb5fdb2b6cf9c24",
   "outputs": [],
   "execution_count": 26
  },
  {
   "metadata": {
    "ExecuteTime": {
     "end_time": "2025-04-25T22:33:11.231543Z",
     "start_time": "2025-04-25T22:33:11.225538Z"
    }
   },
   "cell_type": "code",
   "source": [
    "# считаем ratio = n_negative / n_positive\n",
    "ratio = (y_train == 0).sum() / (y_train == 1).sum()"
   ],
   "id": "588ae643cb83cb65",
   "outputs": [],
   "execution_count": 27
  },
  {
   "metadata": {
    "ExecuteTime": {
     "end_time": "2025-04-25T22:43:14.232483Z",
     "start_time": "2025-04-25T22:43:13.221284Z"
    }
   },
   "cell_type": "code",
   "source": [
    "model = XGBClassifier(eval_metric='logloss', scale_pos_weight=ratio, num_boost_round=1000,\n",
    "                      max_depth=7,  # Глубина дерева\n",
    "                      learning_rate=0.01,  # Скорость обучения\n",
    "                      subsample=0.8,  # Доля выборки для каждого дерева\n",
    "                      colsample_bytree=0.8,  # Доля признаков для каждого дерева\n",
    "                      min_child_weight=1,  # Минимальный вес в листе\n",
    "                      gamma=0,  # Минимальное уменьшение потерь\n",
    "                      reg_alpha=0,  # L1 регуляризация\n",
    "                      reg_lambda=1,  # L2 регуляризация)\n",
    "                      )\n",
    "model.fit(X_train, y_train, eval_set=[(X_val, y_val)], verbose=100)"
   ],
   "id": "1bbc0b72fa7da15f",
   "outputs": [
    {
     "name": "stdout",
     "output_type": "stream",
     "text": [
      "[0]\tvalidation_0-logloss:0.68345\n"
     ]
    },
    {
     "name": "stderr",
     "output_type": "stream",
     "text": [
      "S:\\anaconda3\\envs\\hh_casualml_test\\lib\\site-packages\\xgboost\\core.py:158: UserWarning: [01:43:13] WARNING: D:\\bld\\xgboost-split_1724807729805\\work\\src\\learner.cc:740: \n",
      "Parameters: { \"num_boost_round\" } are not used.\n",
      "\n",
      "  warnings.warn(smsg, UserWarning)\n"
     ]
    },
    {
     "name": "stdout",
     "output_type": "stream",
     "text": [
      "[99]\tvalidation_0-logloss:0.22829\n"
     ]
    },
    {
     "data": {
      "text/plain": [
       "XGBClassifier(base_score=None, booster=None, callbacks=None,\n",
       "              colsample_bylevel=None, colsample_bynode=None,\n",
       "              colsample_bytree=0.8, device=None, early_stopping_rounds=None,\n",
       "              enable_categorical=False, eval_metric='logloss',\n",
       "              feature_types=None, gamma=0, grow_policy=None,\n",
       "              importance_type=None, interaction_constraints=None,\n",
       "              learning_rate=0.01, max_bin=None, max_cat_threshold=None,\n",
       "              max_cat_to_onehot=None, max_delta_step=None, max_depth=7,\n",
       "              max_leaves=None, min_child_weight=1, missing=nan,\n",
       "              monotone_constraints=None, multi_strategy=None, n_estimators=None,\n",
       "              n_jobs=None, num_boost_round=1000, num_parallel_tree=None, ...)"
      ],
      "text/html": [
       "<style>#sk-container-id-17 {color: black;}#sk-container-id-17 pre{padding: 0;}#sk-container-id-17 div.sk-toggleable {background-color: white;}#sk-container-id-17 label.sk-toggleable__label {cursor: pointer;display: block;width: 100%;margin-bottom: 0;padding: 0.3em;box-sizing: border-box;text-align: center;}#sk-container-id-17 label.sk-toggleable__label-arrow:before {content: \"▸\";float: left;margin-right: 0.25em;color: #696969;}#sk-container-id-17 label.sk-toggleable__label-arrow:hover:before {color: black;}#sk-container-id-17 div.sk-estimator:hover label.sk-toggleable__label-arrow:before {color: black;}#sk-container-id-17 div.sk-toggleable__content {max-height: 0;max-width: 0;overflow: hidden;text-align: left;background-color: #f0f8ff;}#sk-container-id-17 div.sk-toggleable__content pre {margin: 0.2em;color: black;border-radius: 0.25em;background-color: #f0f8ff;}#sk-container-id-17 input.sk-toggleable__control:checked~div.sk-toggleable__content {max-height: 200px;max-width: 100%;overflow: auto;}#sk-container-id-17 input.sk-toggleable__control:checked~label.sk-toggleable__label-arrow:before {content: \"▾\";}#sk-container-id-17 div.sk-estimator input.sk-toggleable__control:checked~label.sk-toggleable__label {background-color: #d4ebff;}#sk-container-id-17 div.sk-label input.sk-toggleable__control:checked~label.sk-toggleable__label {background-color: #d4ebff;}#sk-container-id-17 input.sk-hidden--visually {border: 0;clip: rect(1px 1px 1px 1px);clip: rect(1px, 1px, 1px, 1px);height: 1px;margin: -1px;overflow: hidden;padding: 0;position: absolute;width: 1px;}#sk-container-id-17 div.sk-estimator {font-family: monospace;background-color: #f0f8ff;border: 1px dotted black;border-radius: 0.25em;box-sizing: border-box;margin-bottom: 0.5em;}#sk-container-id-17 div.sk-estimator:hover {background-color: #d4ebff;}#sk-container-id-17 div.sk-parallel-item::after {content: \"\";width: 100%;border-bottom: 1px solid gray;flex-grow: 1;}#sk-container-id-17 div.sk-label:hover label.sk-toggleable__label {background-color: #d4ebff;}#sk-container-id-17 div.sk-serial::before {content: \"\";position: absolute;border-left: 1px solid gray;box-sizing: border-box;top: 0;bottom: 0;left: 50%;z-index: 0;}#sk-container-id-17 div.sk-serial {display: flex;flex-direction: column;align-items: center;background-color: white;padding-right: 0.2em;padding-left: 0.2em;position: relative;}#sk-container-id-17 div.sk-item {position: relative;z-index: 1;}#sk-container-id-17 div.sk-parallel {display: flex;align-items: stretch;justify-content: center;background-color: white;position: relative;}#sk-container-id-17 div.sk-item::before, #sk-container-id-17 div.sk-parallel-item::before {content: \"\";position: absolute;border-left: 1px solid gray;box-sizing: border-box;top: 0;bottom: 0;left: 50%;z-index: -1;}#sk-container-id-17 div.sk-parallel-item {display: flex;flex-direction: column;z-index: 1;position: relative;background-color: white;}#sk-container-id-17 div.sk-parallel-item:first-child::after {align-self: flex-end;width: 50%;}#sk-container-id-17 div.sk-parallel-item:last-child::after {align-self: flex-start;width: 50%;}#sk-container-id-17 div.sk-parallel-item:only-child::after {width: 0;}#sk-container-id-17 div.sk-dashed-wrapped {border: 1px dashed gray;margin: 0 0.4em 0.5em 0.4em;box-sizing: border-box;padding-bottom: 0.4em;background-color: white;}#sk-container-id-17 div.sk-label label {font-family: monospace;font-weight: bold;display: inline-block;line-height: 1.2em;}#sk-container-id-17 div.sk-label-container {text-align: center;}#sk-container-id-17 div.sk-container {/* jupyter's `normalize.less` sets `[hidden] { display: none; }` but bootstrap.min.css set `[hidden] { display: none !important; }` so we also need the `!important` here to be able to override the default hidden behavior on the sphinx rendered scikit-learn.org. See: https://github.com/scikit-learn/scikit-learn/issues/21755 */display: inline-block !important;position: relative;}#sk-container-id-17 div.sk-text-repr-fallback {display: none;}</style><div id=\"sk-container-id-17\" class=\"sk-top-container\"><div class=\"sk-text-repr-fallback\"><pre>XGBClassifier(base_score=None, booster=None, callbacks=None,\n",
       "              colsample_bylevel=None, colsample_bynode=None,\n",
       "              colsample_bytree=0.8, device=None, early_stopping_rounds=None,\n",
       "              enable_categorical=False, eval_metric=&#x27;logloss&#x27;,\n",
       "              feature_types=None, gamma=0, grow_policy=None,\n",
       "              importance_type=None, interaction_constraints=None,\n",
       "              learning_rate=0.01, max_bin=None, max_cat_threshold=None,\n",
       "              max_cat_to_onehot=None, max_delta_step=None, max_depth=7,\n",
       "              max_leaves=None, min_child_weight=1, missing=nan,\n",
       "              monotone_constraints=None, multi_strategy=None, n_estimators=None,\n",
       "              n_jobs=None, num_boost_round=1000, num_parallel_tree=None, ...)</pre><b>In a Jupyter environment, please rerun this cell to show the HTML representation or trust the notebook. <br />On GitHub, the HTML representation is unable to render, please try loading this page with nbviewer.org.</b></div><div class=\"sk-container\" hidden><div class=\"sk-item\"><div class=\"sk-estimator sk-toggleable\"><input class=\"sk-toggleable__control sk-hidden--visually\" id=\"sk-estimator-id-17\" type=\"checkbox\" checked><label for=\"sk-estimator-id-17\" class=\"sk-toggleable__label sk-toggleable__label-arrow\">XGBClassifier</label><div class=\"sk-toggleable__content\"><pre>XGBClassifier(base_score=None, booster=None, callbacks=None,\n",
       "              colsample_bylevel=None, colsample_bynode=None,\n",
       "              colsample_bytree=0.8, device=None, early_stopping_rounds=None,\n",
       "              enable_categorical=False, eval_metric=&#x27;logloss&#x27;,\n",
       "              feature_types=None, gamma=0, grow_policy=None,\n",
       "              importance_type=None, interaction_constraints=None,\n",
       "              learning_rate=0.01, max_bin=None, max_cat_threshold=None,\n",
       "              max_cat_to_onehot=None, max_delta_step=None, max_depth=7,\n",
       "              max_leaves=None, min_child_weight=1, missing=nan,\n",
       "              monotone_constraints=None, multi_strategy=None, n_estimators=None,\n",
       "              n_jobs=None, num_boost_round=1000, num_parallel_tree=None, ...)</pre></div></div></div></div></div>"
      ]
     },
     "execution_count": 53,
     "metadata": {},
     "output_type": "execute_result"
    }
   ],
   "execution_count": 53
  },
  {
   "metadata": {
    "ExecuteTime": {
     "end_time": "2025-04-25T22:43:54.484615Z",
     "start_time": "2025-04-25T22:43:54.418449Z"
    }
   },
   "cell_type": "code",
   "source": [
    "# оценка\n",
    "y_proba = model.predict_proba(X_test)[:, 1]\n",
    "roc = roc_auc_score(y_test, y_proba)\n",
    "y_pred = (y_proba >= 0.2).astype(int)\n",
    "report = classification_report(y_test, y_pred)\n",
    "\n",
    "print(f\"ROC-AUC: {roc:.4f}\")\n",
    "print(\"Report (threshold=0.2):\\n\", report)\n"
   ],
   "id": "d900783b8e1785d8",
   "outputs": [
    {
     "name": "stdout",
     "output_type": "stream",
     "text": [
      "ROC-AUC: 0.9967\n",
      "Report (threshold=0.2):\n",
      "               precision    recall  f1-score   support\n",
      "\n",
      "           0       1.00      0.99      0.99     36706\n",
      "           1       0.69      1.00      0.81      1114\n",
      "\n",
      "    accuracy                           0.99     37820\n",
      "   macro avg       0.84      0.99      0.90     37820\n",
      "weighted avg       0.99      0.99      0.99     37820\n",
      "\n"
     ]
    }
   ],
   "execution_count": 61
  },
  {
   "metadata": {},
   "cell_type": "code",
   "outputs": [],
   "execution_count": null,
   "source": "",
   "id": "67409b4d68615a54"
  }
 ],
 "metadata": {
  "kernelspec": {
   "display_name": "Python 3",
   "language": "python",
   "name": "python3"
  },
  "language_info": {
   "codemirror_mode": {
    "name": "ipython",
    "version": 2
   },
   "file_extension": ".py",
   "mimetype": "text/x-python",
   "name": "python",
   "nbconvert_exporter": "python",
   "pygments_lexer": "ipython2",
   "version": "2.7.6"
  }
 },
 "nbformat": 4,
 "nbformat_minor": 5
}
